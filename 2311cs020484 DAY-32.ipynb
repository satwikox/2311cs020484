{
 "cells": [
  {
   "cell_type": "code",
   "execution_count": null,
   "id": "20208209-e295-47c1-ad46-928ef8006f44",
   "metadata": {},
   "outputs": [],
   "source": [
    "pip install mlxtend"
   ]
  },
  {
   "cell_type": "code",
   "execution_count": 14,
   "id": "d27c2e86-c295-41bd-b181-76c609ed94a4",
   "metadata": {},
   "outputs": [],
   "source": [
    "import pandas as pd\n",
    "from mlxtend.frequent_patterns import apriori,association_rules"
   ]
  },
  {
   "cell_type": "code",
   "execution_count": 16,
   "id": "7090efac-ff9a-4f5c-bfdc-78b52aedf546",
   "metadata": {},
   "outputs": [],
   "source": [
    "data=[\n",
    "    ['Milk','Bread','Jam','Butter','Brush','Sugar','Paste'],\n",
    "    ['Milk','Bread','Egg'],\n",
    "    ['Beer','Cola','Ice','Fish'],\n",
    "    ['Milk','Bread','Egg','Panner'],\n",
    "    ['Diapers','Milk','Bread','Jam'],\n",
    "    ['Milk','Bread','Jam','Cola']\n",
    "]"
   ]
  },
  {
   "cell_type": "code",
   "execution_count": 20,
   "id": "9a970576-235d-44fb-b115-a092d2f519ba",
   "metadata": {},
   "outputs": [],
   "source": [
    "from mlxtend.preprocessing import TransactionEncoder"
   ]
  },
  {
   "cell_type": "code",
   "execution_count": null,
   "id": "2f51e9b5-c16c-4dbe-8302-4f558b198cac",
   "metadata": {},
   "outputs": [],
   "source": []
  }
 ],
 "metadata": {
  "kernelspec": {
   "display_name": "Python [conda env:base] *",
   "language": "python",
   "name": "conda-base-py"
  },
  "language_info": {
   "codemirror_mode": {
    "name": "ipython",
    "version": 3
   },
   "file_extension": ".py",
   "mimetype": "text/x-python",
   "name": "python",
   "nbconvert_exporter": "python",
   "pygments_lexer": "ipython3",
   "version": "3.12.7"
  }
 },
 "nbformat": 4,
 "nbformat_minor": 5
}
