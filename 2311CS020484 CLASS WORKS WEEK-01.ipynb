{
 "cells": [
  {
   "cell_type": "markdown",
   "id": "984952d4",
   "metadata": {},
   "source": [
    "# DAY-01 "
   ]
  },
  {
   "cell_type": "markdown",
   "id": "feba122a",
   "metadata": {},
   "source": [
    "#### addition  +\n",
    "#### subtraction  -\n",
    "#### multiplication  *\n",
    "#### division  /\n",
    "#### reminder %\n",
    "#### power **\n",
    "#### floor division / /"
   ]
  },
  {
   "cell_type": "code",
   "execution_count": 2,
   "id": "15117f06",
   "metadata": {},
   "outputs": [],
   "source": [
    "a=45\n",
    "b=4\n",
    "c=a + b\n",
    "d=a - b"
   ]
  },
  {
   "cell_type": "code",
   "execution_count": 3,
   "id": "0dafacfb",
   "metadata": {},
   "outputs": [
    {
     "name": "stdout",
     "output_type": "stream",
     "text": [
      "45\n",
      "4\n",
      "49\n"
     ]
    },
    {
     "data": {
      "text/plain": [
       "int"
      ]
     },
     "execution_count": 3,
     "metadata": {},
     "output_type": "execute_result"
    }
   ],
   "source": [
    "print(a)\n",
    "print(b)\n",
    "print(c)\n",
    "\n",
    "type(c)\n",
    "type(d)\n"
   ]
  },
  {
   "cell_type": "code",
   "execution_count": 4,
   "id": "0db7031b",
   "metadata": {},
   "outputs": [],
   "source": [
    "a = 56\n",
    "b = 67\n",
    "d = a + b"
   ]
  },
  {
   "cell_type": "code",
   "execution_count": 5,
   "id": "8e758e19",
   "metadata": {},
   "outputs": [
    {
     "name": "stdout",
     "output_type": "stream",
     "text": [
      "123\n"
     ]
    },
    {
     "data": {
      "text/plain": [
       "int"
      ]
     },
     "execution_count": 5,
     "metadata": {},
     "output_type": "execute_result"
    }
   ],
   "source": [
    "print(d)\n",
    "type(d)"
   ]
  },
  {
   "cell_type": "code",
   "execution_count": 7,
   "id": "cd99f92c",
   "metadata": {},
   "outputs": [
    {
     "name": "stdout",
     "output_type": "stream",
     "text": [
      "1.1964285714285714\n"
     ]
    },
    {
     "data": {
      "text/plain": [
       "float"
      ]
     },
     "execution_count": 7,
     "metadata": {},
     "output_type": "execute_result"
    }
   ],
   "source": [
    "#DIVISION\n",
    "a = 67\n",
    "b = 56\n",
    "c = a / b\n",
    "print(c)\n",
    "type(c)"
   ]
  },
  {
   "cell_type": "code",
   "execution_count": 8,
   "id": "32eb837e",
   "metadata": {},
   "outputs": [
    {
     "name": "stdout",
     "output_type": "stream",
     "text": [
      "45\n"
     ]
    },
    {
     "data": {
      "text/plain": [
       "int"
      ]
     },
     "execution_count": 8,
     "metadata": {},
     "output_type": "execute_result"
    }
   ],
   "source": [
    "#REMINDER\n",
    "a = 45\n",
    "b = 67\n",
    "c = a % b\n",
    "print(c)\n",
    "type(c)"
   ]
  },
  {
   "cell_type": "code",
   "execution_count": 9,
   "id": "a1c13531",
   "metadata": {},
   "outputs": [
    {
     "name": "stdout",
     "output_type": "stream",
     "text": [
      "4660808027410506132900915088997417305944355117847144307414511042169984019070976\n"
     ]
    },
    {
     "data": {
      "text/plain": [
       "int"
      ]
     },
     "execution_count": 9,
     "metadata": {},
     "output_type": "execute_result"
    }
   ],
   "source": [
    "#POWER\n",
    "a = 56\n",
    "b = 45\n",
    "c = a ** b\n",
    "print(c)\n",
    "type(c)"
   ]
  },
  {
   "cell_type": "code",
   "execution_count": 10,
   "id": "a2cd8abd",
   "metadata": {},
   "outputs": [
    {
     "name": "stdout",
     "output_type": "stream",
     "text": [
      "2\n"
     ]
    },
    {
     "data": {
      "text/plain": [
       "int"
      ]
     },
     "execution_count": 10,
     "metadata": {},
     "output_type": "execute_result"
    }
   ],
   "source": [
    "#FLOOR\n",
    "a = 87\n",
    "b = 43\n",
    "c = a // b\n",
    "print(c)\n",
    "type(c)"
   ]
  },
  {
   "cell_type": "code",
   "execution_count": 11,
   "id": "de81b938",
   "metadata": {},
   "outputs": [
    {
     "data": {
      "text/plain": [
       "False"
      ]
     },
     "execution_count": 11,
     "metadata": {},
     "output_type": "execute_result"
    }
   ],
   "source": [
    "#boolean\n",
    "#<\n",
    "x =45\n",
    "y =10.6\n",
    "x < y\n"
   ]
  },
  {
   "cell_type": "code",
   "execution_count": 12,
   "id": "f7cb9a7a",
   "metadata": {},
   "outputs": [
    {
     "data": {
      "text/plain": [
       "True"
      ]
     },
     "execution_count": 12,
     "metadata": {},
     "output_type": "execute_result"
    }
   ],
   "source": [
    "# Operator:-  >\n",
    "x =45\n",
    "y =10.6\n",
    "x > y"
   ]
  },
  {
   "cell_type": "code",
   "execution_count": 13,
   "id": "11820c7c",
   "metadata": {},
   "outputs": [
    {
     "data": {
      "text/plain": [
       "True"
      ]
     },
     "execution_count": 13,
     "metadata": {},
     "output_type": "execute_result"
    }
   ],
   "source": [
    "# Operator:- >=\n",
    "x =45\n",
    "y =10.6\n",
    "x >= y"
   ]
  },
  {
   "cell_type": "code",
   "execution_count": 14,
   "id": "920c97c4",
   "metadata": {},
   "outputs": [
    {
     "data": {
      "text/plain": [
       "False"
      ]
     },
     "execution_count": 14,
     "metadata": {},
     "output_type": "execute_result"
    }
   ],
   "source": [
    "#<=\n",
    "x =45\n",
    "y =10.6\n",
    "x <= y"
   ]
  },
  {
   "cell_type": "code",
   "execution_count": 15,
   "id": "71d577b5",
   "metadata": {},
   "outputs": [
    {
     "data": {
      "text/plain": [
       "False"
      ]
     },
     "execution_count": 15,
     "metadata": {},
     "output_type": "execute_result"
    }
   ],
   "source": [
    "# ==\n",
    "x =45\n",
    "y =10.6\n",
    "x == y\n"
   ]
  },
  {
   "cell_type": "code",
   "execution_count": 16,
   "id": "d5d26afc",
   "metadata": {},
   "outputs": [
    {
     "data": {
      "text/plain": [
       "True"
      ]
     },
     "execution_count": 16,
     "metadata": {},
     "output_type": "execute_result"
    }
   ],
   "source": [
    "x =45\n",
    "y =45\n",
    "x == y"
   ]
  },
  {
   "cell_type": "code",
   "execution_count": 17,
   "id": "469d6379",
   "metadata": {},
   "outputs": [
    {
     "data": {
      "text/plain": [
       "True"
      ]
     },
     "execution_count": 17,
     "metadata": {},
     "output_type": "execute_result"
    }
   ],
   "source": [
    "# !=\n",
    "x = 45\n",
    "y = 10.6\n",
    "x != y"
   ]
  },
  {
   "cell_type": "code",
   "execution_count": 18,
   "id": "5ad67ca0",
   "metadata": {},
   "outputs": [
    {
     "data": {
      "text/plain": [
       "False"
      ]
     },
     "execution_count": 18,
     "metadata": {},
     "output_type": "execute_result"
    }
   ],
   "source": [
    "#Logical operaters\n",
    "\n",
    "#AND OPERATOR \n",
    "\n",
    "True and True  --- True\n",
    "True and False  --- False\n",
    "False and True  --- True\n",
    "False and False  --- False\n"
   ]
  },
  {
   "cell_type": "code",
   "execution_count": 19,
   "id": "4acf9aeb",
   "metadata": {},
   "outputs": [
    {
     "data": {
      "text/plain": [
       "0"
      ]
     },
     "execution_count": 19,
     "metadata": {},
     "output_type": "execute_result"
    }
   ],
   "source": [
    "#OR OPERATOR \n",
    "\n",
    "True or True  --- True\n",
    "True or False  --- False\n",
    "False or True  --- True\n",
    "False or False  --- False"
   ]
  },
  {
   "cell_type": "code",
   "execution_count": 21,
   "id": "e836610a",
   "metadata": {},
   "outputs": [
    {
     "data": {
      "text/plain": [
       "203"
      ]
     },
     "execution_count": 21,
     "metadata": {},
     "output_type": "execute_result"
    }
   ],
   "source": [
    "c = [203,'Hyderabad',45,True,False,78,175,34.90]\n",
    "c[2]\n",
    "c[0]"
   ]
  },
  {
   "cell_type": "code",
   "execution_count": 22,
   "id": "d5354077",
   "metadata": {},
   "outputs": [
    {
     "data": {
      "text/plain": [
       "'Hyderabad'"
      ]
     },
     "execution_count": 22,
     "metadata": {},
     "output_type": "execute_result"
    }
   ],
   "source": [
    "c[1]"
   ]
  },
  {
   "cell_type": "code",
   "execution_count": 23,
   "id": "62bb4652",
   "metadata": {},
   "outputs": [
    {
     "data": {
      "text/plain": [
       "34.9"
      ]
     },
     "execution_count": 23,
     "metadata": {},
     "output_type": "execute_result"
    }
   ],
   "source": [
    "c[-1]"
   ]
  },
  {
   "cell_type": "code",
   "execution_count": 24,
   "id": "e3e53e6b",
   "metadata": {},
   "outputs": [
    {
     "data": {
      "text/plain": [
       "[45, True, False, 78, 175, 34.9]"
      ]
     },
     "execution_count": 24,
     "metadata": {},
     "output_type": "execute_result"
    }
   ],
   "source": [
    "c=[203,'Hyderabad',45,True,False,78,175,34.90]\n",
    "c[ 4:6]\n",
    "c[2: ]"
   ]
  },
  {
   "cell_type": "code",
   "execution_count": 25,
   "id": "11b8de95",
   "metadata": {},
   "outputs": [
    {
     "data": {
      "text/plain": [
       "['Hyderabad', True, 78]"
      ]
     },
     "execution_count": 25,
     "metadata": {},
     "output_type": "execute_result"
    }
   ],
   "source": [
    "c[1:7:2]"
   ]
  },
  {
   "cell_type": "code",
   "execution_count": 26,
   "id": "569323b4",
   "metadata": {},
   "outputs": [],
   "source": [
    "c=[203,'Hyderabad',45,True,False,78,175,34.90,]"
   ]
  },
  {
   "cell_type": "code",
   "execution_count": 27,
   "id": "55473dc6",
   "metadata": {},
   "outputs": [
    {
     "data": {
      "text/plain": [
       "[45, True, False, 78, 175, 34.9]"
      ]
     },
     "execution_count": 27,
     "metadata": {},
     "output_type": "execute_result"
    }
   ],
   "source": [
    "c[2:]"
   ]
  },
  {
   "cell_type": "markdown",
   "id": "c2de85f0",
   "metadata": {},
   "source": [
    "# LIST  METHODS\n",
    "##### append \n",
    "##### insert\n",
    "##### extend\n",
    "##### pop\n",
    "##### remove\n",
    "##### clear\n",
    "##### count"
   ]
  },
  {
   "cell_type": "code",
   "execution_count": 29,
   "id": "dbc538b8",
   "metadata": {},
   "outputs": [
    {
     "data": {
      "text/plain": [
       "[45, True, False, 78, 175, 34.9]"
      ]
     },
     "execution_count": 29,
     "metadata": {},
     "output_type": "execute_result"
    }
   ],
   "source": [
    "c=[45, True, False, 78, 175, 34.9]\n",
    "c"
   ]
  },
  {
   "cell_type": "code",
   "execution_count": 30,
   "id": "b3892d57",
   "metadata": {},
   "outputs": [
    {
     "data": {
      "text/plain": [
       "6"
      ]
     },
     "execution_count": 30,
     "metadata": {},
     "output_type": "execute_result"
    }
   ],
   "source": [
    "#length of list\n",
    "len(c)"
   ]
  },
  {
   "cell_type": "code",
   "execution_count": 32,
   "id": "766f8f52",
   "metadata": {},
   "outputs": [
    {
     "data": {
      "text/plain": [
       "[45, True, False, 78, 175, 34.9, 'India', 'India']"
      ]
     },
     "execution_count": 32,
     "metadata": {},
     "output_type": "execute_result"
    }
   ],
   "source": [
    "c.append('India')\n",
    "c"
   ]
  },
  {
   "cell_type": "code",
   "execution_count": 33,
   "id": "fd61df10",
   "metadata": {},
   "outputs": [
    {
     "data": {
      "text/plain": [
       "8"
      ]
     },
     "execution_count": 33,
     "metadata": {},
     "output_type": "execute_result"
    }
   ],
   "source": [
    "len(c)"
   ]
  },
  {
   "cell_type": "code",
   "execution_count": 34,
   "id": "d5c794f7",
   "metadata": {},
   "outputs": [
    {
     "data": {
      "text/plain": [
       "[45, True, False, 90, 78, 175, 34.9, 'India', 'India']"
      ]
     },
     "execution_count": 34,
     "metadata": {},
     "output_type": "execute_result"
    }
   ],
   "source": [
    "c.insert(3,90)\n",
    "c"
   ]
  },
  {
   "cell_type": "code",
   "execution_count": 35,
   "id": "b816c925",
   "metadata": {},
   "outputs": [
    {
     "data": {
      "text/plain": [
       "175"
      ]
     },
     "execution_count": 35,
     "metadata": {},
     "output_type": "execute_result"
    }
   ],
   "source": [
    "c.pop(5)"
   ]
  },
  {
   "cell_type": "code",
   "execution_count": 36,
   "id": "9ec5d418",
   "metadata": {},
   "outputs": [
    {
     "data": {
      "text/plain": [
       "[45, True, False, 90, 78, 34.9, 'India', 'India']"
      ]
     },
     "execution_count": 36,
     "metadata": {},
     "output_type": "execute_result"
    }
   ],
   "source": [
    "c"
   ]
  },
  {
   "cell_type": "code",
   "execution_count": 37,
   "id": "5e31ef9e",
   "metadata": {},
   "outputs": [],
   "source": [
    "c.clear()"
   ]
  },
  {
   "cell_type": "code",
   "execution_count": 39,
   "id": "2c1967ed",
   "metadata": {},
   "outputs": [
    {
     "data": {
      "text/plain": [
       "[]"
      ]
     },
     "execution_count": 39,
     "metadata": {},
     "output_type": "execute_result"
    }
   ],
   "source": [
    "c"
   ]
  },
  {
   "cell_type": "code",
   "execution_count": 46,
   "id": "ebd09230",
   "metadata": {},
   "outputs": [],
   "source": [
    "c=[90,'India']"
   ]
  },
  {
   "cell_type": "code",
   "execution_count": 47,
   "id": "bfce3e6f",
   "metadata": {},
   "outputs": [
    {
     "data": {
      "text/plain": [
       "[90, 'India']"
      ]
     },
     "execution_count": 47,
     "metadata": {},
     "output_type": "execute_result"
    }
   ],
   "source": [
    "c"
   ]
  },
  {
   "cell_type": "code",
   "execution_count": 48,
   "id": "0bbc6b1b",
   "metadata": {},
   "outputs": [],
   "source": [
    "c.remove(90)"
   ]
  },
  {
   "cell_type": "code",
   "execution_count": 49,
   "id": "7ddf8f32",
   "metadata": {},
   "outputs": [
    {
     "data": {
      "text/plain": [
       "['India']"
      ]
     },
     "execution_count": 49,
     "metadata": {},
     "output_type": "execute_result"
    }
   ],
   "source": [
    "c"
   ]
  },
  {
   "cell_type": "code",
   "execution_count": 50,
   "id": "5caea100",
   "metadata": {},
   "outputs": [
    {
     "data": {
      "text/plain": [
       "1"
      ]
     },
     "execution_count": 50,
     "metadata": {},
     "output_type": "execute_result"
    }
   ],
   "source": [
    "c.count('India')"
   ]
  },
  {
   "cell_type": "code",
   "execution_count": 51,
   "id": "e9b86db0",
   "metadata": {},
   "outputs": [
    {
     "data": {
      "text/plain": [
       "['India']"
      ]
     },
     "execution_count": 51,
     "metadata": {},
     "output_type": "execute_result"
    }
   ],
   "source": [
    "c"
   ]
  },
  {
   "cell_type": "code",
   "execution_count": 52,
   "id": "c5c3cc11",
   "metadata": {},
   "outputs": [
    {
     "data": {
      "text/plain": [
       "[6, 3, 9, 4, 1, 3, 0, 8.7, 45, 43, 89]"
      ]
     },
     "execution_count": 52,
     "metadata": {},
     "output_type": "execute_result"
    }
   ],
   "source": []
  },
  {
   "cell_type": "code",
   "execution_count": 53,
   "id": "29a30ede",
   "metadata": {},
   "outputs": [],
   "source": [
    "del(d)"
   ]
  },
  {
   "cell_type": "code",
   "execution_count": 54,
   "id": "b5b9d174",
   "metadata": {},
   "outputs": [
    {
     "ename": "NameError",
     "evalue": "name 'd' is not defined",
     "output_type": "error",
     "traceback": [
      "\u001b[1;31m---------------------------------------------------------------------------\u001b[0m",
      "\u001b[1;31mNameError\u001b[0m                                 Traceback (most recent call last)",
      "Cell \u001b[1;32mIn[54], line 1\u001b[0m\n\u001b[1;32m----> 1\u001b[0m d\n",
      "\u001b[1;31mNameError\u001b[0m: name 'd' is not defined"
     ]
    }
   ],
   "source": [
    "d"
   ]
  },
  {
   "cell_type": "code",
   "execution_count": 55,
   "id": "6b185f25",
   "metadata": {},
   "outputs": [
    {
     "data": {
      "text/plain": [
       "[6, 3, 9, 4, 1, 3, 0, 8.7, 45, 43, 89]"
      ]
     },
     "execution_count": 55,
     "metadata": {},
     "output_type": "execute_result"
    }
   ],
   "source": [
    "d=[6,3,9,4,1,3,0,8.7,45,43,89]\n",
    "d"
   ]
  },
  {
   "cell_type": "markdown",
   "id": "6585b252",
   "metadata": {},
   "source": [
    "# DAY-02"
   ]
  },
  {
   "cell_type": "code",
   "execution_count": 56,
   "id": "33a865d8",
   "metadata": {},
   "outputs": [
    {
     "data": {
      "text/plain": [
       "(90, 45, 6)"
      ]
     },
     "execution_count": 56,
     "metadata": {},
     "output_type": "execute_result"
    }
   ],
   "source": [
    "h = (90,45,6)\n",
    "h"
   ]
  },
  {
   "cell_type": "code",
   "execution_count": 57,
   "id": "921b5166",
   "metadata": {},
   "outputs": [
    {
     "data": {
      "text/plain": [
       "tuple"
      ]
     },
     "execution_count": 57,
     "metadata": {},
     "output_type": "execute_result"
    }
   ],
   "source": [
    "type(h)"
   ]
  },
  {
   "cell_type": "code",
   "execution_count": 58,
   "id": "87a8b91e",
   "metadata": {},
   "outputs": [
    {
     "data": {
      "text/plain": [
       "1"
      ]
     },
     "execution_count": 58,
     "metadata": {},
     "output_type": "execute_result"
    }
   ],
   "source": [
    "##only two operations int tuple\n",
    "h.index(45)"
   ]
  },
  {
   "cell_type": "code",
   "execution_count": 59,
   "id": "0f97c226",
   "metadata": {},
   "outputs": [
    {
     "data": {
      "text/plain": [
       "{7, 34, 56}"
      ]
     },
     "execution_count": 59,
     "metadata": {},
     "output_type": "execute_result"
    }
   ],
   "source": [
    "s ={34,56,7}\n",
    "s"
   ]
  },
  {
   "cell_type": "code",
   "execution_count": 60,
   "id": "0896b9eb",
   "metadata": {},
   "outputs": [
    {
     "data": {
      "text/plain": [
       "set"
      ]
     },
     "execution_count": 60,
     "metadata": {},
     "output_type": "execute_result"
    }
   ],
   "source": [
    "type(s)"
   ]
  },
  {
   "cell_type": "code",
   "execution_count": 61,
   "id": "ff8405b3",
   "metadata": {},
   "outputs": [],
   "source": [
    "#add is only used for set to add the element\n",
    "s.add(90)"
   ]
  },
  {
   "cell_type": "code",
   "execution_count": 62,
   "id": "e8050008",
   "metadata": {},
   "outputs": [
    {
     "data": {
      "text/plain": [
       "{7, 34, 56, 90}"
      ]
     },
     "execution_count": 62,
     "metadata": {},
     "output_type": "execute_result"
    }
   ],
   "source": [
    "s"
   ]
  },
  {
   "cell_type": "code",
   "execution_count": 63,
   "id": "33526164",
   "metadata": {},
   "outputs": [
    {
     "data": {
      "text/plain": [
       "{7, 34, 90}"
      ]
     },
     "execution_count": 63,
     "metadata": {},
     "output_type": "execute_result"
    }
   ],
   "source": [
    "s.remove(56)\n",
    "s"
   ]
  },
  {
   "cell_type": "code",
   "execution_count": 64,
   "id": "35370fe7",
   "metadata": {},
   "outputs": [
    {
     "data": {
      "text/plain": [
       "{45, 79, 90, 214}"
      ]
     },
     "execution_count": 64,
     "metadata": {},
     "output_type": "execute_result"
    }
   ],
   "source": [
    "y = {45,79,90,214}\n",
    "y"
   ]
  },
  {
   "cell_type": "code",
   "execution_count": 65,
   "id": "1cf343d5",
   "metadata": {},
   "outputs": [
    {
     "data": {
      "text/plain": [
       "{7, 34}"
      ]
     },
     "execution_count": 65,
     "metadata": {},
     "output_type": "execute_result"
    }
   ],
   "source": [
    "s.difference(y)"
   ]
  },
  {
   "cell_type": "code",
   "execution_count": 66,
   "id": "eca5f4b1",
   "metadata": {},
   "outputs": [
    {
     "data": {
      "text/plain": [
       "{90}"
      ]
     },
     "execution_count": 66,
     "metadata": {},
     "output_type": "execute_result"
    }
   ],
   "source": [
    "s.intersection(y)"
   ]
  },
  {
   "cell_type": "code",
   "execution_count": 67,
   "id": "02f3c0e0",
   "metadata": {},
   "outputs": [
    {
     "data": {
      "text/plain": [
       "{90}"
      ]
     },
     "execution_count": 67,
     "metadata": {},
     "output_type": "execute_result"
    }
   ],
   "source": [
    "y.intersection(s)"
   ]
  },
  {
   "cell_type": "code",
   "execution_count": 68,
   "id": "ed1fa12f",
   "metadata": {},
   "outputs": [
    {
     "data": {
      "text/plain": [
       "{7, 34, 45, 79, 90, 214}"
      ]
     },
     "execution_count": 68,
     "metadata": {},
     "output_type": "execute_result"
    }
   ],
   "source": [
    "s.union(y)"
   ]
  },
  {
   "cell_type": "code",
   "execution_count": 69,
   "id": "1dde2e3a",
   "metadata": {},
   "outputs": [
    {
     "data": {
      "text/plain": [
       "{7, 34, 45, 79, 214}"
      ]
     },
     "execution_count": 69,
     "metadata": {},
     "output_type": "execute_result"
    }
   ],
   "source": [
    "s.symmetric_difference(y)"
   ]
  },
  {
   "cell_type": "code",
   "execution_count": 70,
   "id": "61d0102a",
   "metadata": {},
   "outputs": [
    {
     "data": {
      "text/plain": [
       "(50, 70, 80, 90)"
      ]
     },
     "execution_count": 70,
     "metadata": {},
     "output_type": "execute_result"
    }
   ],
   "source": [
    "a=(50,70,80,90)\n",
    "a"
   ]
  },
  {
   "cell_type": "code",
   "execution_count": 71,
   "id": "508a79f3",
   "metadata": {},
   "outputs": [
    {
     "data": {
      "text/plain": [
       "[50, 70, 80, 90]"
      ]
     },
     "execution_count": 71,
     "metadata": {},
     "output_type": "execute_result"
    }
   ],
   "source": [
    "d=list(a)\n",
    "d"
   ]
  },
  {
   "cell_type": "code",
   "execution_count": 72,
   "id": "348ff164",
   "metadata": {},
   "outputs": [
    {
     "data": {
      "text/plain": [
       "[50, 70, 80, 90, 40]"
      ]
     },
     "execution_count": 72,
     "metadata": {},
     "output_type": "execute_result"
    }
   ],
   "source": [
    "d.append(40)\n",
    "d"
   ]
  },
  {
   "cell_type": "code",
   "execution_count": 73,
   "id": "e1a0da58",
   "metadata": {},
   "outputs": [
    {
     "data": {
      "text/plain": [
       "(50, 70, 80, 90)"
      ]
     },
     "execution_count": 73,
     "metadata": {},
     "output_type": "execute_result"
    }
   ],
   "source": [
    "# a=tuple(d)\n",
    "a"
   ]
  },
  {
   "cell_type": "markdown",
   "id": "c72caf98",
   "metadata": {},
   "source": [
    "### Creating a list named c   DAY -- 03"
   ]
  },
  {
   "cell_type": "code",
   "execution_count": 8,
   "id": "a7f382f2",
   "metadata": {},
   "outputs": [
    {
     "data": {
      "text/plain": [
       "['rk', 25, 'vikas', True, False, 40.23, 8525.21255, 'nooka']"
      ]
     },
     "execution_count": 8,
     "metadata": {},
     "output_type": "execute_result"
    }
   ],
   "source": [
    "c=['rk',25,\"vikas\",True,False,40.23,8525.21255,\"nooka\"]\n",
    "c"
   ]
  },
  {
   "cell_type": "code",
   "execution_count": 5,
   "id": "315d635c",
   "metadata": {},
   "outputs": [
    {
     "data": {
      "text/plain": [
       "'rk'"
      ]
     },
     "execution_count": 5,
     "metadata": {},
     "output_type": "execute_result"
    }
   ],
   "source": [
    "c[0]"
   ]
  },
  {
   "cell_type": "code",
   "execution_count": 6,
   "id": "978c018c",
   "metadata": {},
   "outputs": [
    {
     "data": {
      "text/plain": [
       "str"
      ]
     },
     "execution_count": 6,
     "metadata": {},
     "output_type": "execute_result"
    }
   ],
   "source": [
    "type(c[0])"
   ]
  },
  {
   "cell_type": "code",
   "execution_count": 7,
   "id": "0b5a5f7b",
   "metadata": {},
   "outputs": [
    {
     "data": {
      "text/plain": [
       "'vikas'"
      ]
     },
     "execution_count": 7,
     "metadata": {},
     "output_type": "execute_result"
    }
   ],
   "source": [
    "c[2]"
   ]
  },
  {
   "cell_type": "code",
   "execution_count": 8,
   "id": "72ad7c2c",
   "metadata": {},
   "outputs": [
    {
     "data": {
      "text/plain": [
       "40.23"
      ]
     },
     "execution_count": 8,
     "metadata": {},
     "output_type": "execute_result"
    }
   ],
   "source": [
    "c[5]"
   ]
  },
  {
   "cell_type": "code",
   "execution_count": 9,
   "id": "13e4df52",
   "metadata": {},
   "outputs": [
    {
     "data": {
      "text/plain": [
       "'nooka'"
      ]
     },
     "execution_count": 9,
     "metadata": {},
     "output_type": "execute_result"
    }
   ],
   "source": [
    "c[-1]"
   ]
  },
  {
   "cell_type": "code",
   "execution_count": 10,
   "id": "7246cc14",
   "metadata": {},
   "outputs": [
    {
     "data": {
      "text/plain": [
       "8525.21255"
      ]
     },
     "execution_count": 10,
     "metadata": {},
     "output_type": "execute_result"
    }
   ],
   "source": [
    "c[-2]"
   ]
  },
  {
   "cell_type": "code",
   "execution_count": 12,
   "id": "f60ce51d",
   "metadata": {},
   "outputs": [
    {
     "data": {
      "text/plain": [
       "float"
      ]
     },
     "execution_count": 12,
     "metadata": {},
     "output_type": "execute_result"
    }
   ],
   "source": [
    "type(c[-2])"
   ]
  },
  {
   "cell_type": "code",
   "execution_count": 13,
   "id": "66f52e8f",
   "metadata": {},
   "outputs": [
    {
     "data": {
      "text/plain": [
       "'rk'"
      ]
     },
     "execution_count": 13,
     "metadata": {},
     "output_type": "execute_result"
    }
   ],
   "source": [
    "c[-0]"
   ]
  },
  {
   "cell_type": "code",
   "execution_count": 14,
   "id": "7fe91f39",
   "metadata": {},
   "outputs": [
    {
     "data": {
      "text/plain": [
       "False"
      ]
     },
     "execution_count": 14,
     "metadata": {},
     "output_type": "execute_result"
    }
   ],
   "source": [
    "c[1]==c[-1]"
   ]
  },
  {
   "cell_type": "code",
   "execution_count": 18,
   "id": "a11b951c",
   "metadata": {},
   "outputs": [
    {
     "data": {
      "text/plain": [
       "True"
      ]
     },
     "execution_count": 18,
     "metadata": {},
     "output_type": "execute_result"
    }
   ],
   "source": [
    "c[1]==c[-7]"
   ]
  },
  {
   "cell_type": "code",
   "execution_count": 19,
   "id": "db36a7fc",
   "metadata": {},
   "outputs": [
    {
     "data": {
      "text/plain": [
       "bool"
      ]
     },
     "execution_count": 19,
     "metadata": {},
     "output_type": "execute_result"
    }
   ],
   "source": [
    "type(c[1]==c[-7])"
   ]
  },
  {
   "cell_type": "code",
   "execution_count": 20,
   "id": "69ad96a5",
   "metadata": {},
   "outputs": [
    {
     "data": {
      "text/plain": [
       "True"
      ]
     },
     "execution_count": 20,
     "metadata": {},
     "output_type": "execute_result"
    }
   ],
   "source": [
    "c[1]!=c[6]"
   ]
  },
  {
   "cell_type": "code",
   "execution_count": 22,
   "id": "2ceae54b",
   "metadata": {},
   "outputs": [
    {
     "data": {
      "text/plain": [
       "True"
      ]
     },
     "execution_count": 22,
     "metadata": {},
     "output_type": "execute_result"
    }
   ],
   "source": [
    "c[5]>=c[-3]"
   ]
  },
  {
   "cell_type": "markdown",
   "id": "1e85e4cb",
   "metadata": {},
   "source": [
    "### Traversing  [start:end]"
   ]
  },
  {
   "cell_type": "code",
   "execution_count": 25,
   "id": "e53c710c",
   "metadata": {},
   "outputs": [
    {
     "data": {
      "text/plain": [
       "['rk', 25, 'vikas']"
      ]
     },
     "execution_count": 25,
     "metadata": {},
     "output_type": "execute_result"
    }
   ],
   "source": [
    "c[0:3]"
   ]
  },
  {
   "cell_type": "code",
   "execution_count": 30,
   "id": "5b41d03f",
   "metadata": {},
   "outputs": [
    {
     "data": {
      "text/plain": [
       "['vikas', True, False, 40.23, 8525.21255]"
      ]
     },
     "execution_count": 30,
     "metadata": {},
     "output_type": "execute_result"
    }
   ],
   "source": [
    "c[2:-1]"
   ]
  },
  {
   "cell_type": "code",
   "execution_count": 32,
   "id": "137a525a",
   "metadata": {},
   "outputs": [
    {
     "data": {
      "text/plain": [
       "['rk', 25, 'vikas', True, False, 40.23]"
      ]
     },
     "execution_count": 32,
     "metadata": {},
     "output_type": "execute_result"
    }
   ],
   "source": [
    "c[:6]"
   ]
  },
  {
   "cell_type": "code",
   "execution_count": 33,
   "id": "b5e06f0d",
   "metadata": {},
   "outputs": [
    {
     "data": {
      "text/plain": [
       "['vikas', True, False, 40.23, 8525.21255, 'nooka']"
      ]
     },
     "execution_count": 33,
     "metadata": {},
     "output_type": "execute_result"
    }
   ],
   "source": [
    "c[2:]"
   ]
  },
  {
   "cell_type": "code",
   "execution_count": 34,
   "id": "16242fb8",
   "metadata": {},
   "outputs": [
    {
     "data": {
      "text/plain": [
       "['rk', 25, 'vikas', True, False, 40.23, 8525.21255, 'nooka']"
      ]
     },
     "execution_count": 34,
     "metadata": {},
     "output_type": "execute_result"
    }
   ],
   "source": [
    "c"
   ]
  },
  {
   "cell_type": "code",
   "execution_count": 35,
   "id": "300de8fa",
   "metadata": {},
   "outputs": [
    {
     "data": {
      "text/plain": [
       "['rk', False]"
      ]
     },
     "execution_count": 35,
     "metadata": {},
     "output_type": "execute_result"
    }
   ],
   "source": [
    "c[0:8:4]"
   ]
  },
  {
   "cell_type": "code",
   "execution_count": 36,
   "id": "b24c707e",
   "metadata": {},
   "outputs": [
    {
     "data": {
      "text/plain": [
       "[True, False, 40.23, 8525.21255, 'nooka']"
      ]
     },
     "execution_count": 36,
     "metadata": {},
     "output_type": "execute_result"
    }
   ],
   "source": [
    "c[3:]"
   ]
  },
  {
   "cell_type": "code",
   "execution_count": 37,
   "id": "72dfc2b6",
   "metadata": {},
   "outputs": [
    {
     "data": {
      "text/plain": [
       "['vikas', True, False, 40.23, 8525.21255]"
      ]
     },
     "execution_count": 37,
     "metadata": {},
     "output_type": "execute_result"
    }
   ],
   "source": [
    "c[2:7]"
   ]
  },
  {
   "cell_type": "code",
   "execution_count": 38,
   "id": "2a16ca2d",
   "metadata": {},
   "outputs": [
    {
     "data": {
      "text/plain": [
       "['rk', 25, 'vikas', True, False, 40.23, 8525.21255, 'nooka']"
      ]
     },
     "execution_count": 38,
     "metadata": {},
     "output_type": "execute_result"
    }
   ],
   "source": [
    "c"
   ]
  },
  {
   "cell_type": "code",
   "execution_count": 39,
   "id": "931a612e",
   "metadata": {},
   "outputs": [
    {
     "data": {
      "text/plain": [
       "['vikas', True, False, 40.23, 8525.21255, 'nooka']"
      ]
     },
     "execution_count": 39,
     "metadata": {},
     "output_type": "execute_result"
    }
   ],
   "source": [
    "c[2:8]"
   ]
  },
  {
   "cell_type": "markdown",
   "id": "90f399ec",
   "metadata": {},
   "source": [
    "### Traversing  step wise [start:end:step]"
   ]
  },
  {
   "cell_type": "code",
   "execution_count": 41,
   "id": "89a06664",
   "metadata": {},
   "outputs": [
    {
     "data": {
      "text/plain": [
       "[25, 'vikas', True, False, 40.23, 8525.21255]"
      ]
     },
     "execution_count": 41,
     "metadata": {},
     "output_type": "execute_result"
    }
   ],
   "source": [
    "c[1:7:1]"
   ]
  },
  {
   "cell_type": "code",
   "execution_count": 42,
   "id": "2d9686d0",
   "metadata": {},
   "outputs": [
    {
     "data": {
      "text/plain": [
       "[25, True, 40.23]"
      ]
     },
     "execution_count": 42,
     "metadata": {},
     "output_type": "execute_result"
    }
   ],
   "source": [
    "c[1:7:2]"
   ]
  },
  {
   "cell_type": "code",
   "execution_count": 43,
   "id": "fab68b3d",
   "metadata": {},
   "outputs": [
    {
     "data": {
      "text/plain": [
       "[25, False, 'nooka']"
      ]
     },
     "execution_count": 43,
     "metadata": {},
     "output_type": "execute_result"
    }
   ],
   "source": [
    "c[1:8:3]"
   ]
  },
  {
   "cell_type": "code",
   "execution_count": 44,
   "id": "29b2c88c",
   "metadata": {},
   "outputs": [
    {
     "data": {
      "text/plain": [
       "[25, 40.23]"
      ]
     },
     "execution_count": 44,
     "metadata": {},
     "output_type": "execute_result"
    }
   ],
   "source": [
    "c[1:8:4]"
   ]
  },
  {
   "cell_type": "code",
   "execution_count": 45,
   "id": "858af319",
   "metadata": {},
   "outputs": [
    {
     "data": {
      "text/plain": [
       "[25, 8525.21255]"
      ]
     },
     "execution_count": 45,
     "metadata": {},
     "output_type": "execute_result"
    }
   ],
   "source": [
    "c[1:8:5]"
   ]
  },
  {
   "cell_type": "code",
   "execution_count": 46,
   "id": "d5aa3b75",
   "metadata": {},
   "outputs": [
    {
     "data": {
      "text/plain": [
       "[25, 'nooka']"
      ]
     },
     "execution_count": 46,
     "metadata": {},
     "output_type": "execute_result"
    }
   ],
   "source": [
    "c[1:8:6]"
   ]
  },
  {
   "cell_type": "code",
   "execution_count": 47,
   "id": "cfff6f2d",
   "metadata": {},
   "outputs": [
    {
     "data": {
      "text/plain": [
       "[25]"
      ]
     },
     "execution_count": 47,
     "metadata": {},
     "output_type": "execute_result"
    }
   ],
   "source": [
    "c[1:8:7]"
   ]
  },
  {
   "cell_type": "code",
   "execution_count": 48,
   "id": "8eab51fc",
   "metadata": {},
   "outputs": [
    {
     "data": {
      "text/plain": [
       "[25]"
      ]
     },
     "execution_count": 48,
     "metadata": {},
     "output_type": "execute_result"
    }
   ],
   "source": [
    "c[1:8:8]"
   ]
  },
  {
   "cell_type": "code",
   "execution_count": 9,
   "id": "b2a63ab4",
   "metadata": {},
   "outputs": [
    {
     "data": {
      "text/plain": [
       "[8525.21255]"
      ]
     },
     "execution_count": 9,
     "metadata": {},
     "output_type": "execute_result"
    }
   ],
   "source": [
    "c[-2:5:-1]"
   ]
  },
  {
   "cell_type": "code",
   "execution_count": 10,
   "id": "e9d9639d",
   "metadata": {},
   "outputs": [
    {
     "data": {
      "text/plain": [
       "[8525.21255, 40.23, False]"
      ]
     },
     "execution_count": 10,
     "metadata": {},
     "output_type": "execute_result"
    }
   ],
   "source": [
    "c[-2:-5:-1]"
   ]
  },
  {
   "cell_type": "markdown",
   "id": "72cf1890",
   "metadata": {},
   "source": [
    "## List Methods"
   ]
  },
  {
   "cell_type": "markdown",
   "id": "8bdfc7b4",
   "metadata": {},
   "source": [
    "#### append\n",
    "#### insert\n",
    "#### extend\n",
    "#### pop\n",
    "#### remove\n",
    "#### clear\n",
    "#### count"
   ]
  },
  {
   "cell_type": "code",
   "execution_count": 11,
   "id": "02edf15d",
   "metadata": {},
   "outputs": [
    {
     "data": {
      "text/plain": [
       "['rk', 25, 'vikas', True, False, 40.23, 8525.21255, 'nooka']"
      ]
     },
     "execution_count": 11,
     "metadata": {},
     "output_type": "execute_result"
    }
   ],
   "source": [
    "c"
   ]
  },
  {
   "cell_type": "code",
   "execution_count": 12,
   "id": "6d1d98b2",
   "metadata": {},
   "outputs": [
    {
     "data": {
      "text/plain": [
       "8"
      ]
     },
     "execution_count": 12,
     "metadata": {},
     "output_type": "execute_result"
    }
   ],
   "source": [
    "len(c) #length of the list"
   ]
  },
  {
   "cell_type": "code",
   "execution_count": 13,
   "id": "9ede1e56",
   "metadata": {},
   "outputs": [],
   "source": [
    "c.append(7854444)"
   ]
  },
  {
   "cell_type": "code",
   "execution_count": 14,
   "id": "f6a9b22b",
   "metadata": {},
   "outputs": [
    {
     "data": {
      "text/plain": [
       "['rk', 25, 'vikas', True, False, 40.23, 8525.21255, 'nooka', 7854444]"
      ]
     },
     "execution_count": 14,
     "metadata": {},
     "output_type": "execute_result"
    }
   ],
   "source": [
    "c"
   ]
  },
  {
   "cell_type": "code",
   "execution_count": 15,
   "id": "7ab6e2c8",
   "metadata": {},
   "outputs": [],
   "source": [
    "c.append('Indianssss') #add the element at the last"
   ]
  },
  {
   "cell_type": "code",
   "execution_count": 16,
   "id": "6c0ec900",
   "metadata": {},
   "outputs": [
    {
     "data": {
      "text/plain": [
       "['rk',\n",
       " 25,\n",
       " 'vikas',\n",
       " True,\n",
       " False,\n",
       " 40.23,\n",
       " 8525.21255,\n",
       " 'nooka',\n",
       " 7854444,\n",
       " 'Indianssss']"
      ]
     },
     "execution_count": 16,
     "metadata": {},
     "output_type": "execute_result"
    }
   ],
   "source": [
    "c"
   ]
  },
  {
   "cell_type": "code",
   "execution_count": 18,
   "id": "bf76b103",
   "metadata": {},
   "outputs": [
    {
     "data": {
      "text/plain": [
       "list"
      ]
     },
     "execution_count": 18,
     "metadata": {},
     "output_type": "execute_result"
    }
   ],
   "source": [
    "type(c)"
   ]
  },
  {
   "cell_type": "code",
   "execution_count": 19,
   "id": "9382242f",
   "metadata": {},
   "outputs": [],
   "source": [
    "c.insert(1,83)"
   ]
  },
  {
   "cell_type": "code",
   "execution_count": 20,
   "id": "0202f65f",
   "metadata": {},
   "outputs": [
    {
     "data": {
      "text/plain": [
       "['rk',\n",
       " 83,\n",
       " 25,\n",
       " 'vikas',\n",
       " True,\n",
       " False,\n",
       " 40.23,\n",
       " 8525.21255,\n",
       " 'nooka',\n",
       " 7854444,\n",
       " 'Indianssss']"
      ]
     },
     "execution_count": 20,
     "metadata": {},
     "output_type": "execute_result"
    }
   ],
   "source": [
    "c"
   ]
  },
  {
   "cell_type": "code",
   "execution_count": 23,
   "id": "d861c165",
   "metadata": {},
   "outputs": [],
   "source": [
    "c.remove(7854444) #to remove the particular element"
   ]
  },
  {
   "cell_type": "code",
   "execution_count": 24,
   "id": "2d413a23",
   "metadata": {},
   "outputs": [
    {
     "data": {
      "text/plain": [
       "['rk', 83, 25, 'vikas', True, False, 40.23, 8525.21255, 'nooka', 'Indianssss']"
      ]
     },
     "execution_count": 24,
     "metadata": {},
     "output_type": "execute_result"
    }
   ],
   "source": [
    "c"
   ]
  },
  {
   "cell_type": "code",
   "execution_count": 25,
   "id": "f49d867b",
   "metadata": {},
   "outputs": [
    {
     "data": {
      "text/plain": [
       "10"
      ]
     },
     "execution_count": 25,
     "metadata": {},
     "output_type": "execute_result"
    }
   ],
   "source": [
    "len(c)"
   ]
  },
  {
   "cell_type": "code",
   "execution_count": 26,
   "id": "7aed2e18",
   "metadata": {},
   "outputs": [
    {
     "data": {
      "text/plain": [
       "'Indianssss'"
      ]
     },
     "execution_count": 26,
     "metadata": {},
     "output_type": "execute_result"
    }
   ],
   "source": [
    "c.pop()  #remove the lastly inserted value in the list and display"
   ]
  },
  {
   "cell_type": "code",
   "execution_count": 27,
   "id": "28c4f844",
   "metadata": {},
   "outputs": [
    {
     "data": {
      "text/plain": [
       "['rk', 83, 25, 'vikas', True, False, 40.23, 8525.21255, 'nooka']"
      ]
     },
     "execution_count": 27,
     "metadata": {},
     "output_type": "execute_result"
    }
   ],
   "source": [
    "c"
   ]
  },
  {
   "cell_type": "code",
   "execution_count": 28,
   "id": "81d23862",
   "metadata": {},
   "outputs": [
    {
     "data": {
      "text/plain": [
       "<function list.pop(index=-1, /)>"
      ]
     },
     "execution_count": 28,
     "metadata": {},
     "output_type": "execute_result"
    }
   ],
   "source": [
    "c.pop"
   ]
  },
  {
   "cell_type": "code",
   "execution_count": 30,
   "id": "4902f8ef",
   "metadata": {},
   "outputs": [
    {
     "data": {
      "text/plain": [
       "['rk', 83, 25, 'vikas', True, False, 40.23]"
      ]
     },
     "execution_count": 30,
     "metadata": {},
     "output_type": "execute_result"
    }
   ],
   "source": [
    "c.pop(7)\n",
    "c"
   ]
  },
  {
   "cell_type": "code",
   "execution_count": 33,
   "id": "5914e4a7",
   "metadata": {},
   "outputs": [],
   "source": [
    "c.append('nooka')"
   ]
  },
  {
   "cell_type": "code",
   "execution_count": 35,
   "id": "6075658c",
   "metadata": {},
   "outputs": [
    {
     "data": {
      "text/plain": [
       "'nooka'"
      ]
     },
     "execution_count": 35,
     "metadata": {},
     "output_type": "execute_result"
    }
   ],
   "source": [
    "c.pop(7)"
   ]
  },
  {
   "cell_type": "code",
   "execution_count": 36,
   "id": "e961c520",
   "metadata": {},
   "outputs": [
    {
     "data": {
      "text/plain": [
       "['rk', 83, 25, 'vikas', True, False, 40.23, 'nooka']"
      ]
     },
     "execution_count": 36,
     "metadata": {},
     "output_type": "execute_result"
    }
   ],
   "source": [
    "c"
   ]
  },
  {
   "cell_type": "code",
   "execution_count": 38,
   "id": "1446a781",
   "metadata": {},
   "outputs": [
    {
     "data": {
      "text/plain": [
       "1"
      ]
     },
     "execution_count": 38,
     "metadata": {},
     "output_type": "execute_result"
    }
   ],
   "source": [
    "c.count('nooka') #It counts the occcurance of an element in the list"
   ]
  },
  {
   "cell_type": "code",
   "execution_count": 40,
   "id": "09637c2c",
   "metadata": {},
   "outputs": [],
   "source": [
    "d=[1,2,3,5,\"tujke pass\",\"passss nahi aaaooo\"]\n"
   ]
  },
  {
   "cell_type": "code",
   "execution_count": 41,
   "id": "e6c4d17e",
   "metadata": {},
   "outputs": [
    {
     "data": {
      "text/plain": [
       "<function list.clear()>"
      ]
     },
     "execution_count": 41,
     "metadata": {},
     "output_type": "execute_result"
    }
   ],
   "source": [
    "d.clear #clears the elements in the list"
   ]
  },
  {
   "cell_type": "code",
   "execution_count": 42,
   "id": "826b1e86",
   "metadata": {},
   "outputs": [],
   "source": [
    "d.clear()  # clears the all elements in the list"
   ]
  },
  {
   "cell_type": "code",
   "execution_count": 43,
   "id": "dc71eedd",
   "metadata": {},
   "outputs": [
    {
     "data": {
      "text/plain": [
       "[]"
      ]
     },
     "execution_count": 43,
     "metadata": {},
     "output_type": "execute_result"
    }
   ],
   "source": [
    "d"
   ]
  },
  {
   "cell_type": "code",
   "execution_count": 44,
   "id": "88db807f",
   "metadata": {},
   "outputs": [
    {
     "data": {
      "text/plain": [
       "['rk', 83, 25, 'vikas', True, False, 40.23, 'nooka']"
      ]
     },
     "execution_count": 44,
     "metadata": {},
     "output_type": "execute_result"
    }
   ],
   "source": [
    "c"
   ]
  },
  {
   "cell_type": "code",
   "execution_count": 55,
   "id": "ff909d8a",
   "metadata": {},
   "outputs": [],
   "source": [
    "d.extend(c)  #extends the other elements and appends all elements in the list"
   ]
  },
  {
   "cell_type": "code",
   "execution_count": 56,
   "id": "e6d76163",
   "metadata": {},
   "outputs": [
    {
     "data": {
      "text/plain": [
       "['rk',\n",
       " 83,\n",
       " 25,\n",
       " 'vikas',\n",
       " True,\n",
       " False,\n",
       " 40.23,\n",
       " 'nooka',\n",
       " 'rk',\n",
       " 83,\n",
       " 25,\n",
       " 'vikas',\n",
       " True,\n",
       " False,\n",
       " 40.23,\n",
       " 'nooka',\n",
       " 'rk',\n",
       " 83,\n",
       " 25,\n",
       " 'vikas',\n",
       " True,\n",
       " False,\n",
       " 40.23,\n",
       " 'nooka']"
      ]
     },
     "execution_count": 56,
     "metadata": {},
     "output_type": "execute_result"
    }
   ],
   "source": [
    "d"
   ]
  },
  {
   "cell_type": "code",
   "execution_count": 57,
   "id": "5edeae47",
   "metadata": {},
   "outputs": [],
   "source": [
    "c.extend(d)"
   ]
  },
  {
   "cell_type": "code",
   "execution_count": 58,
   "id": "45702478",
   "metadata": {},
   "outputs": [
    {
     "data": {
      "text/plain": [
       "['rk',\n",
       " 83,\n",
       " 25,\n",
       " 'vikas',\n",
       " True,\n",
       " False,\n",
       " 40.23,\n",
       " 'nooka',\n",
       " 'rk',\n",
       " 83,\n",
       " 25,\n",
       " 'vikas',\n",
       " True,\n",
       " False,\n",
       " 40.23,\n",
       " 'nooka',\n",
       " 'rk',\n",
       " 83,\n",
       " 25,\n",
       " 'vikas',\n",
       " True,\n",
       " False,\n",
       " 40.23,\n",
       " 'nooka',\n",
       " 'rk',\n",
       " 83,\n",
       " 25,\n",
       " 'vikas',\n",
       " True,\n",
       " False,\n",
       " 40.23,\n",
       " 'nooka',\n",
       " 'rk',\n",
       " 83,\n",
       " 25,\n",
       " 'vikas',\n",
       " True,\n",
       " False,\n",
       " 40.23,\n",
       " 'nooka']"
      ]
     },
     "execution_count": 58,
     "metadata": {},
     "output_type": "execute_result"
    }
   ],
   "source": [
    "c"
   ]
  },
  {
   "cell_type": "code",
   "execution_count": 66,
   "id": "52322c94",
   "metadata": {},
   "outputs": [],
   "source": [
    "c.remove(40.23)"
   ]
  },
  {
   "cell_type": "code",
   "execution_count": 67,
   "id": "4250e21c",
   "metadata": {},
   "outputs": [
    {
     "data": {
      "text/plain": [
       "['rk',\n",
       " 83,\n",
       " 25,\n",
       " 'vikas',\n",
       " True,\n",
       " False,\n",
       " 'nooka',\n",
       " 'rk',\n",
       " 83,\n",
       " 25,\n",
       " 'vikas',\n",
       " True,\n",
       " False,\n",
       " 'nooka',\n",
       " 'rk',\n",
       " 83,\n",
       " 25,\n",
       " 'vikas',\n",
       " True,\n",
       " False,\n",
       " 'nooka',\n",
       " 'rk',\n",
       " 83,\n",
       " 25,\n",
       " 'vikas',\n",
       " True,\n",
       " False,\n",
       " 'nooka',\n",
       " 'rk',\n",
       " 83,\n",
       " 25,\n",
       " 'vikas',\n",
       " True,\n",
       " False,\n",
       " 'nooka']"
      ]
     },
     "execution_count": 67,
     "metadata": {},
     "output_type": "execute_result"
    }
   ],
   "source": [
    "c"
   ]
  },
  {
   "cell_type": "code",
   "execution_count": 68,
   "id": "9347e375",
   "metadata": {},
   "outputs": [],
   "source": [
    "c.clear()"
   ]
  },
  {
   "cell_type": "code",
   "execution_count": 4,
   "id": "8573682d",
   "metadata": {},
   "outputs": [],
   "source": [
    "c=[1,2]"
   ]
  },
  {
   "cell_type": "code",
   "execution_count": 5,
   "id": "fe717555",
   "metadata": {},
   "outputs": [],
   "source": [
    "c.extend([100,200,8746])"
   ]
  },
  {
   "cell_type": "code",
   "execution_count": 6,
   "id": "9e238123",
   "metadata": {},
   "outputs": [
    {
     "data": {
      "text/plain": [
       "[1, 2, 100, 200, 8746]"
      ]
     },
     "execution_count": 6,
     "metadata": {},
     "output_type": "execute_result"
    }
   ],
   "source": [
    "c"
   ]
  },
  {
   "cell_type": "code",
   "execution_count": 7,
   "id": "b3cc4a05",
   "metadata": {},
   "outputs": [],
   "source": [
    "a=[45,789,\"friends\"]"
   ]
  },
  {
   "cell_type": "code",
   "execution_count": 8,
   "id": "082345aa",
   "metadata": {},
   "outputs": [
    {
     "data": {
      "text/plain": [
       "[45, 789, 'friends']"
      ]
     },
     "execution_count": 8,
     "metadata": {},
     "output_type": "execute_result"
    }
   ],
   "source": [
    "a"
   ]
  },
  {
   "cell_type": "code",
   "execution_count": 9,
   "id": "ca2e082c",
   "metadata": {},
   "outputs": [
    {
     "data": {
      "text/plain": [
       "[45, 789, 'friends', 1, 2, 100, 200, 8746]"
      ]
     },
     "execution_count": 9,
     "metadata": {},
     "output_type": "execute_result"
    }
   ],
   "source": [
    "a+c  # Concatination of two lists"
   ]
  },
  {
   "cell_type": "markdown",
   "id": "82d9c4c0",
   "metadata": {},
   "source": [
    "# Tuple  Day -- 04"
   ]
  },
  {
   "cell_type": "code",
   "execution_count": 3,
   "id": "8591c454",
   "metadata": {},
   "outputs": [],
   "source": [
    "t=(40,57,54,7894,4555)"
   ]
  },
  {
   "cell_type": "code",
   "execution_count": 4,
   "id": "f87a994a",
   "metadata": {},
   "outputs": [
    {
     "data": {
      "text/plain": [
       "tuple"
      ]
     },
     "execution_count": 4,
     "metadata": {},
     "output_type": "execute_result"
    }
   ],
   "source": [
    "type(t)   #tells type"
   ]
  },
  {
   "cell_type": "code",
   "execution_count": 7,
   "id": "816f2495",
   "metadata": {},
   "outputs": [
    {
     "data": {
      "text/plain": [
       "1"
      ]
     },
     "execution_count": 7,
     "metadata": {},
     "output_type": "execute_result"
    }
   ],
   "source": [
    "t.count(40) #count of a particular element"
   ]
  },
  {
   "cell_type": "code",
   "execution_count": 8,
   "id": "8f06ab9e",
   "metadata": {},
   "outputs": [
    {
     "data": {
      "text/plain": [
       "2"
      ]
     },
     "execution_count": 8,
     "metadata": {},
     "output_type": "execute_result"
    }
   ],
   "source": [
    "t.index(54) #index of a particular element"
   ]
  },
  {
   "cell_type": "code",
   "execution_count": 9,
   "id": "939db598",
   "metadata": {},
   "outputs": [
    {
     "data": {
      "text/plain": [
       "(40, 57, 54)"
      ]
     },
     "execution_count": 9,
     "metadata": {},
     "output_type": "execute_result"
    }
   ],
   "source": [
    "t[0:3] #accesing "
   ]
  },
  {
   "cell_type": "markdown",
   "id": "8ddd1ced",
   "metadata": {},
   "source": [
    "#  Set"
   ]
  },
  {
   "cell_type": "code",
   "execution_count": 10,
   "id": "5556d697",
   "metadata": {},
   "outputs": [],
   "source": [
    "h={70,56,48,899}"
   ]
  },
  {
   "cell_type": "code",
   "execution_count": 11,
   "id": "b15cec1e",
   "metadata": {},
   "outputs": [
    {
     "data": {
      "text/plain": [
       "set"
      ]
     },
     "execution_count": 11,
     "metadata": {},
     "output_type": "execute_result"
    }
   ],
   "source": [
    "type(h)"
   ]
  },
  {
   "cell_type": "code",
   "execution_count": 12,
   "id": "2ba0c4b8",
   "metadata": {},
   "outputs": [],
   "source": [
    "h.remove(70) #removes a particular element"
   ]
  },
  {
   "cell_type": "code",
   "execution_count": 43,
   "id": "4143420d",
   "metadata": {},
   "outputs": [
    {
     "data": {
      "text/plain": [
       "{48, 56, 899}"
      ]
     },
     "execution_count": 43,
     "metadata": {},
     "output_type": "execute_result"
    }
   ],
   "source": [
    "h"
   ]
  },
  {
   "cell_type": "code",
   "execution_count": 42,
   "id": "524205e6",
   "metadata": {},
   "outputs": [],
   "source": [
    "g={78,56,66}"
   ]
  },
  {
   "cell_type": "code",
   "execution_count": 15,
   "id": "462d5813",
   "metadata": {},
   "outputs": [
    {
     "data": {
      "text/plain": [
       "{48, 899}"
      ]
     },
     "execution_count": 15,
     "metadata": {},
     "output_type": "execute_result"
    }
   ],
   "source": [
    "h.difference(g)  #difference between the 2 sets"
   ]
  },
  {
   "cell_type": "code",
   "execution_count": 16,
   "id": "7829526f",
   "metadata": {},
   "outputs": [
    {
     "data": {
      "text/plain": [
       "{66, 78}"
      ]
     },
     "execution_count": 16,
     "metadata": {},
     "output_type": "execute_result"
    }
   ],
   "source": [
    "g.difference(h)"
   ]
  },
  {
   "cell_type": "code",
   "execution_count": 18,
   "id": "add9770b",
   "metadata": {},
   "outputs": [
    {
     "data": {
      "text/plain": [
       "{56}"
      ]
     },
     "execution_count": 18,
     "metadata": {},
     "output_type": "execute_result"
    }
   ],
   "source": [
    "h.intersection(g)  #finds out the common element in the sets"
   ]
  },
  {
   "cell_type": "code",
   "execution_count": 19,
   "id": "3be35c9d",
   "metadata": {},
   "outputs": [
    {
     "data": {
      "text/plain": [
       "{56}"
      ]
     },
     "execution_count": 19,
     "metadata": {},
     "output_type": "execute_result"
    }
   ],
   "source": [
    "g.intersection(h)"
   ]
  },
  {
   "cell_type": "code",
   "execution_count": 22,
   "id": "51f8657e",
   "metadata": {},
   "outputs": [
    {
     "data": {
      "text/plain": [
       "{48, 56, 66, 78, 899}"
      ]
     },
     "execution_count": 22,
     "metadata": {},
     "output_type": "execute_result"
    }
   ],
   "source": [
    "h.union(g) #combines the all elemnts removes the duplicate values"
   ]
  },
  {
   "cell_type": "code",
   "execution_count": 21,
   "id": "15703a6f",
   "metadata": {},
   "outputs": [
    {
     "data": {
      "text/plain": [
       "{48, 56, 66, 78, 899}"
      ]
     },
     "execution_count": 21,
     "metadata": {},
     "output_type": "execute_result"
    }
   ],
   "source": [
    "g.union(h)"
   ]
  },
  {
   "cell_type": "code",
   "execution_count": 24,
   "id": "1087deb0",
   "metadata": {},
   "outputs": [
    {
     "data": {
      "text/plain": [
       "{66, 78}"
      ]
     },
     "execution_count": 24,
     "metadata": {},
     "output_type": "execute_result"
    }
   ],
   "source": [
    "g.difference(h) #take only the values purely from set g"
   ]
  },
  {
   "cell_type": "code",
   "execution_count": 26,
   "id": "892b4001",
   "metadata": {},
   "outputs": [
    {
     "data": {
      "text/plain": [
       "{48, 899}"
      ]
     },
     "execution_count": 26,
     "metadata": {},
     "output_type": "execute_result"
    }
   ],
   "source": [
    "h.difference(g)  #take only the values purely from set h"
   ]
  },
  {
   "cell_type": "code",
   "execution_count": 28,
   "id": "6326b45e",
   "metadata": {},
   "outputs": [
    {
     "data": {
      "text/plain": [
       "{48, 66, 78, 899}"
      ]
     },
     "execution_count": 28,
     "metadata": {},
     "output_type": "execute_result"
    }
   ],
   "source": [
    "h.symmetric_difference(g) #find out the symmetric difference"
   ]
  },
  {
   "cell_type": "code",
   "execution_count": 36,
   "id": "0f33dd64",
   "metadata": {},
   "outputs": [
    {
     "data": {
      "text/plain": [
       "tuple"
      ]
     },
     "execution_count": 36,
     "metadata": {},
     "output_type": "execute_result"
    }
   ],
   "source": [
    "a=(50,70,80,90)\n",
    "a\n",
    "type(a)"
   ]
  },
  {
   "cell_type": "code",
   "execution_count": 37,
   "id": "5ff6307c",
   "metadata": {},
   "outputs": [],
   "source": [
    "d=list(a)   #we could not directly add the elements directly so firstly we need to convert it into lists anthen we can modify them "
   ]
  },
  {
   "cell_type": "code",
   "execution_count": 31,
   "id": "33d4467d",
   "metadata": {},
   "outputs": [
    {
     "data": {
      "text/plain": [
       "[50, 70, 80, 90]"
      ]
     },
     "execution_count": 31,
     "metadata": {},
     "output_type": "execute_result"
    }
   ],
   "source": [
    "d"
   ]
  },
  {
   "cell_type": "code",
   "execution_count": 38,
   "id": "b4faa987",
   "metadata": {},
   "outputs": [],
   "source": [
    "d.append(60) #appending elements"
   ]
  },
  {
   "cell_type": "code",
   "execution_count": 39,
   "id": "b66aeb7f",
   "metadata": {},
   "outputs": [
    {
     "data": {
      "text/plain": [
       "[50, 70, 80, 90, 60]"
      ]
     },
     "execution_count": 39,
     "metadata": {},
     "output_type": "execute_result"
    }
   ],
   "source": [
    "d"
   ]
  },
  {
   "cell_type": "code",
   "execution_count": 40,
   "id": "081eaa35",
   "metadata": {},
   "outputs": [],
   "source": [
    "a=tuple(d)   #again convert the list into the tuplee"
   ]
  },
  {
   "cell_type": "code",
   "execution_count": 35,
   "id": "3e626e7b",
   "metadata": {},
   "outputs": [
    {
     "data": {
      "text/plain": [
       "(50, 70, 80, 90, 50)"
      ]
     },
     "execution_count": 35,
     "metadata": {},
     "output_type": "execute_result"
    }
   ],
   "source": [
    "a"
   ]
  },
  {
   "cell_type": "code",
   "execution_count": 4,
   "id": "8e61dd46",
   "metadata": {},
   "outputs": [
    {
     "name": "stdout",
     "output_type": "stream",
     "text": [
      "Enter mark 1: 45\n",
      "Enter mark 2: 56\n",
      "Enter mark 3: 45\n",
      "The average is :  48.666666666666664\n",
      "Grade: Fail\n"
     ]
    }
   ],
   "source": [
    "a=int(input(\"Enter mark 1: \"))    \n",
    "b=int(input(\"Enter mark 2: \"))    \n",
    "c=int(input(\"Enter mark 3: \"))    \n",
    "average=((a+b+c)/3)\n",
    "print(\"The average is : \",average)\n",
    "if(average>=90):\n",
    "    print(\"Grade:A\")\n",
    "elif(80>= average >= 89):\n",
    "    print(\"Grade:B\")\n",
    "elif(70>= average >= 79):\n",
    "    print(\"Grade:C\")\n",
    "else:\n",
    "    print(\"Grade: Fail\")\n"
   ]
  },
  {
   "cell_type": "markdown",
   "id": "335d5e5e",
   "metadata": {},
   "source": [
    "# Day-- 05   __ Dt: 08-01-2025"
   ]
  },
  {
   "cell_type": "markdown",
   "id": "4285d18c",
   "metadata": {},
   "source": [
    "# Dictionaries"
   ]
  },
  {
   "cell_type": "code",
   "execution_count": 8,
   "id": "0d7ba508",
   "metadata": {},
   "outputs": [],
   "source": [
    "d={'a':4,'b':51,'c':80}  #Dictionaries contain values in pair wise key-value pairs\n",
    "# Are also mutable objects"
   ]
  },
  {
   "cell_type": "code",
   "execution_count": 9,
   "id": "d578c25c",
   "metadata": {},
   "outputs": [
    {
     "data": {
      "text/plain": [
       "{'a': 4, 'b': 51, 'c': 80}"
      ]
     },
     "execution_count": 9,
     "metadata": {},
     "output_type": "execute_result"
    }
   ],
   "source": [
    "d"
   ]
  },
  {
   "cell_type": "code",
   "execution_count": 10,
   "id": "f6d20b91",
   "metadata": {},
   "outputs": [
    {
     "data": {
      "text/plain": [
       "dict"
      ]
     },
     "execution_count": 10,
     "metadata": {},
     "output_type": "execute_result"
    }
   ],
   "source": [
    "type(d)"
   ]
  },
  {
   "cell_type": "code",
   "execution_count": 14,
   "id": "edde5266",
   "metadata": {},
   "outputs": [
    {
     "data": {
      "text/plain": [
       "4"
      ]
     },
     "execution_count": 14,
     "metadata": {},
     "output_type": "execute_result"
    }
   ],
   "source": [
    "d['a'] #accessing elements through key pair"
   ]
  },
  {
   "cell_type": "code",
   "execution_count": 11,
   "id": "fd933d8c",
   "metadata": {},
   "outputs": [],
   "source": [
    "l=[4,7,2]"
   ]
  },
  {
   "cell_type": "code",
   "execution_count": 13,
   "id": "377fcb53",
   "metadata": {},
   "outputs": [
    {
     "data": {
      "text/plain": [
       "4"
      ]
     },
     "execution_count": 13,
     "metadata": {},
     "output_type": "execute_result"
    }
   ],
   "source": [
    "l[0] # accesssing elements through indexes(position)"
   ]
  },
  {
   "cell_type": "code",
   "execution_count": 74,
   "id": "3cc84c66",
   "metadata": {},
   "outputs": [],
   "source": [
    "d={101:4,102:5,103:5}"
   ]
  },
  {
   "cell_type": "code",
   "execution_count": 75,
   "id": "80b309e6",
   "metadata": {},
   "outputs": [
    {
     "data": {
      "text/plain": [
       "4"
      ]
     },
     "execution_count": 75,
     "metadata": {},
     "output_type": "execute_result"
    }
   ],
   "source": [
    "d[101]"
   ]
  },
  {
   "cell_type": "code",
   "execution_count": 76,
   "id": "ecbaf24f",
   "metadata": {},
   "outputs": [],
   "source": [
    "d[103]=6  #assigning values to the oindex through keys"
   ]
  },
  {
   "cell_type": "code",
   "execution_count": 77,
   "id": "d2ee3546",
   "metadata": {},
   "outputs": [
    {
     "data": {
      "text/plain": [
       "{101: 4, 102: 5, 103: 6}"
      ]
     },
     "execution_count": 77,
     "metadata": {},
     "output_type": "execute_result"
    }
   ],
   "source": [
    "d"
   ]
  },
  {
   "cell_type": "code",
   "execution_count": 78,
   "id": "6ddf6f8a",
   "metadata": {},
   "outputs": [
    {
     "ename": "KeyError",
     "evalue": "104",
     "output_type": "error",
     "traceback": [
      "\u001b[1;31m---------------------------------------------------------------------------\u001b[0m",
      "\u001b[1;31mKeyError\u001b[0m                                  Traceback (most recent call last)",
      "Cell \u001b[1;32mIn[78], line 1\u001b[0m\n\u001b[1;32m----> 1\u001b[0m d[\u001b[38;5;241m104\u001b[39m]\n",
      "\u001b[1;31mKeyError\u001b[0m: 104"
     ]
    }
   ],
   "source": [
    "d[104]  #no such element is present in the dictionary"
   ]
  },
  {
   "cell_type": "code",
   "execution_count": 79,
   "id": "9dc6879b",
   "metadata": {},
   "outputs": [],
   "source": [
    "d.update({104:8})  #updating the dict after creating firstly"
   ]
  },
  {
   "cell_type": "code",
   "execution_count": 80,
   "id": "f92f02e2",
   "metadata": {},
   "outputs": [
    {
     "data": {
      "text/plain": [
       "{101: 4, 102: 5, 103: 6, 104: 8}"
      ]
     },
     "execution_count": 80,
     "metadata": {},
     "output_type": "execute_result"
    }
   ],
   "source": [
    "d"
   ]
  },
  {
   "cell_type": "code",
   "execution_count": 81,
   "id": "ec4e75b3",
   "metadata": {},
   "outputs": [],
   "source": [
    "del d[104]  #Deleting a particular key value pair"
   ]
  },
  {
   "cell_type": "code",
   "execution_count": 82,
   "id": "ac1b3716",
   "metadata": {},
   "outputs": [
    {
     "data": {
      "text/plain": [
       "{101: 4, 102: 5, 103: 6}"
      ]
     },
     "execution_count": 82,
     "metadata": {},
     "output_type": "execute_result"
    }
   ],
   "source": [
    "d"
   ]
  },
  {
   "cell_type": "code",
   "execution_count": 83,
   "id": "71d4e473",
   "metadata": {},
   "outputs": [],
   "source": [
    "d.update({105:50})"
   ]
  },
  {
   "cell_type": "code",
   "execution_count": 84,
   "id": "dfeac043",
   "metadata": {},
   "outputs": [
    {
     "data": {
      "text/plain": [
       "{101: 4, 102: 5, 103: 6, 105: 50}"
      ]
     },
     "execution_count": 84,
     "metadata": {},
     "output_type": "execute_result"
    }
   ],
   "source": [
    "d"
   ]
  },
  {
   "cell_type": "code",
   "execution_count": 85,
   "id": "abb99f9b",
   "metadata": {},
   "outputs": [],
   "source": [
    "#  In dictionaries duplicate keys are not allowed but duplicate values are allowed"
   ]
  },
  {
   "cell_type": "code",
   "execution_count": 86,
   "id": "9c086d20",
   "metadata": {},
   "outputs": [],
   "source": [
    "d.update({101:10000}) #Key will remain same but value changes"
   ]
  },
  {
   "cell_type": "code",
   "execution_count": 87,
   "id": "fcd3626e",
   "metadata": {},
   "outputs": [
    {
     "data": {
      "text/plain": [
       "{101: 10000, 102: 5, 103: 6, 105: 50}"
      ]
     },
     "execution_count": 87,
     "metadata": {},
     "output_type": "execute_result"
    }
   ],
   "source": [
    "d"
   ]
  },
  {
   "cell_type": "code",
   "execution_count": 88,
   "id": "508280ed",
   "metadata": {},
   "outputs": [],
   "source": [
    "d.update({104:5000})"
   ]
  },
  {
   "cell_type": "code",
   "execution_count": 89,
   "id": "1587bbc5",
   "metadata": {},
   "outputs": [
    {
     "data": {
      "text/plain": [
       "{101: 10000, 102: 5, 103: 6, 105: 50, 104: 5000}"
      ]
     },
     "execution_count": 89,
     "metadata": {},
     "output_type": "execute_result"
    }
   ],
   "source": [
    "d"
   ]
  },
  {
   "cell_type": "code",
   "execution_count": 90,
   "id": "8264a853",
   "metadata": {},
   "outputs": [],
   "source": [
    "d.update({101:5000})"
   ]
  },
  {
   "cell_type": "code",
   "execution_count": 91,
   "id": "f5eb15a7",
   "metadata": {},
   "outputs": [
    {
     "data": {
      "text/plain": [
       "{101: 5000, 102: 5, 103: 6, 105: 50, 104: 5000}"
      ]
     },
     "execution_count": 91,
     "metadata": {},
     "output_type": "execute_result"
    }
   ],
   "source": [
    "d"
   ]
  },
  {
   "cell_type": "code",
   "execution_count": 92,
   "id": "b60d0a57",
   "metadata": {},
   "outputs": [],
   "source": [
    "d[104]={1000,5000,6000}  #adding elements in the form of list to the dictionary\n",
    "#we can also add a tuple or any kind of nested things into a dictionary"
   ]
  },
  {
   "cell_type": "code",
   "execution_count": 93,
   "id": "239da72a",
   "metadata": {},
   "outputs": [
    {
     "data": {
      "text/plain": [
       "{101: 5000, 102: 5, 103: 6, 105: 50, 104: {1000, 5000, 6000}}"
      ]
     },
     "execution_count": 93,
     "metadata": {},
     "output_type": "execute_result"
    }
   ],
   "source": [
    "d"
   ]
  },
  {
   "cell_type": "code",
   "execution_count": 94,
   "id": "efb6b539",
   "metadata": {},
   "outputs": [
    {
     "data": {
      "text/plain": [
       "{1000, 5000, 6000}"
      ]
     },
     "execution_count": 94,
     "metadata": {},
     "output_type": "execute_result"
    }
   ],
   "source": [
    "d[104]"
   ]
  },
  {
   "cell_type": "code",
   "execution_count": 95,
   "id": "f160437a",
   "metadata": {},
   "outputs": [
    {
     "data": {
      "text/plain": [
       "{101: 5000, 102: 5, 103: 6, 105: 50, 104: {1000, 5000, 6000}}"
      ]
     },
     "execution_count": 95,
     "metadata": {},
     "output_type": "execute_result"
    }
   ],
   "source": [
    "d"
   ]
  },
  {
   "cell_type": "code",
   "execution_count": 96,
   "id": "dce8a19d",
   "metadata": {},
   "outputs": [
    {
     "data": {
      "text/plain": [
       "5000"
      ]
     },
     "execution_count": 96,
     "metadata": {},
     "output_type": "execute_result"
    }
   ],
   "source": [
    "d[101]"
   ]
  },
  {
   "cell_type": "code",
   "execution_count": 118,
   "id": "e1508a73",
   "metadata": {},
   "outputs": [
    {
     "data": {
      "text/plain": [
       "set"
      ]
     },
     "execution_count": 118,
     "metadata": {},
     "output_type": "execute_result"
    }
   ],
   "source": [
    "type(d[104])  #set is a unindex object"
   ]
  },
  {
   "cell_type": "code",
   "execution_count": 128,
   "id": "3642a955",
   "metadata": {},
   "outputs": [],
   "source": [
    "d[103]=[30,40,60,80] #assingning values to the dictionary keys"
   ]
  },
  {
   "cell_type": "code",
   "execution_count": 120,
   "id": "9502303d",
   "metadata": {},
   "outputs": [
    {
     "data": {
      "text/plain": [
       "{101: 5000, 102: 5, 103: [30, 40, 60, 80], 105: 50, 104: {1000, 5000, 6000}}"
      ]
     },
     "execution_count": 120,
     "metadata": {},
     "output_type": "execute_result"
    }
   ],
   "source": [
    "d"
   ]
  },
  {
   "cell_type": "code",
   "execution_count": 127,
   "id": "b3f8e8c1",
   "metadata": {},
   "outputs": [
    {
     "data": {
      "text/plain": [
       "[30, 40, 60]"
      ]
     },
     "execution_count": 127,
     "metadata": {},
     "output_type": "execute_result"
    }
   ],
   "source": [
    "d[103][0:3] #accesiing the elements in the doctionaries-list"
   ]
  },
  {
   "cell_type": "code",
   "execution_count": 122,
   "id": "687c5962",
   "metadata": {},
   "outputs": [
    {
     "data": {
      "text/plain": [
       "[30, 40, 60, 80]"
      ]
     },
     "execution_count": 122,
     "metadata": {},
     "output_type": "execute_result"
    }
   ],
   "source": [
    "d[103]"
   ]
  },
  {
   "cell_type": "code",
   "execution_count": 123,
   "id": "856d476d",
   "metadata": {},
   "outputs": [],
   "source": [
    "d[103].append(100)  #appending or adding elemnts in the dictionaries-list"
   ]
  },
  {
   "cell_type": "code",
   "execution_count": 124,
   "id": "faaffc16",
   "metadata": {},
   "outputs": [
    {
     "data": {
      "text/plain": [
       "{101: 5000,\n",
       " 102: 5,\n",
       " 103: [30, 40, 60, 80, 100],\n",
       " 105: 50,\n",
       " 104: {1000, 5000, 6000}}"
      ]
     },
     "execution_count": 124,
     "metadata": {},
     "output_type": "execute_result"
    }
   ],
   "source": [
    "d"
   ]
  },
  {
   "cell_type": "code",
   "execution_count": 125,
   "id": "91cd8978",
   "metadata": {},
   "outputs": [
    {
     "data": {
      "text/plain": [
       "int"
      ]
     },
     "execution_count": 125,
     "metadata": {},
     "output_type": "execute_result"
    }
   ],
   "source": [
    "type(103)"
   ]
  },
  {
   "cell_type": "code",
   "execution_count": 126,
   "id": "5f53a8e4",
   "metadata": {},
   "outputs": [
    {
     "data": {
      "text/plain": [
       "list"
      ]
     },
     "execution_count": 126,
     "metadata": {},
     "output_type": "execute_result"
    }
   ],
   "source": [
    "type(d[103])"
   ]
  },
  {
   "cell_type": "code",
   "execution_count": 129,
   "id": "1f653170",
   "metadata": {},
   "outputs": [],
   "source": [
    "d[101]={50:[7,8,9,10],'apple':(20,320,45,48,958,[450,483,466])}"
   ]
  },
  {
   "cell_type": "code",
   "execution_count": 130,
   "id": "5c418e70",
   "metadata": {},
   "outputs": [
    {
     "data": {
      "text/plain": [
       "{101: {50: [7, 8, 9, 10], 'apple': (20, 320, 45, 48, 958, [450, 483, 466])},\n",
       " 102: 5,\n",
       " 103: [30, 40, 60, 80],\n",
       " 105: 50,\n",
       " 104: {1000, 5000, 6000}}"
      ]
     },
     "execution_count": 130,
     "metadata": {},
     "output_type": "execute_result"
    }
   ],
   "source": [
    "d"
   ]
  },
  {
   "cell_type": "code",
   "execution_count": 135,
   "id": "99343ce4",
   "metadata": {},
   "outputs": [],
   "source": [
    "d[105]={'a':(10,50,80),'b':(1000,4000,8000,4578),'c':['k',{'t':[11,22],'R':(477,88)},'N']}"
   ]
  },
  {
   "cell_type": "code",
   "execution_count": 136,
   "id": "d77e7289",
   "metadata": {
    "scrolled": true
   },
   "outputs": [
    {
     "data": {
      "text/plain": [
       "{101: {50: [7, 8, 9, 10], 'apple': (20, 320, 45, 48, 958, [450, 483, 466])},\n",
       " 102: 5,\n",
       " 103: [30, 40, 60, 80],\n",
       " 105: {'a': (10, 50, 80),\n",
       "  'b': (1000, 4000, 8000, 4578),\n",
       "  'c': ['k', {'t': [11, 22], 'R': (477, 88)}, 'N']},\n",
       " 104: {1000, 5000, 6000}}"
      ]
     },
     "execution_count": 136,
     "metadata": {},
     "output_type": "execute_result"
    }
   ],
   "source": [
    "d"
   ]
  },
  {
   "cell_type": "code",
   "execution_count": 143,
   "id": "bd476b68",
   "metadata": {},
   "outputs": [
    {
     "data": {
      "text/plain": [
       "466"
      ]
     },
     "execution_count": 143,
     "metadata": {},
     "output_type": "execute_result"
    }
   ],
   "source": [
    "d[101]['apple'][5][2]"
   ]
  },
  {
   "cell_type": "code",
   "execution_count": 146,
   "id": "5db80573",
   "metadata": {},
   "outputs": [
    {
     "data": {
      "text/plain": [
       "1000"
      ]
     },
     "execution_count": 146,
     "metadata": {},
     "output_type": "execute_result"
    }
   ],
   "source": [
    "d[105]['b'][0]"
   ]
  },
  {
   "cell_type": "markdown",
   "id": "0dcd2680",
   "metadata": {},
   "source": [
    "# Day--06 __Dt:- 09-01-2025"
   ]
  },
  {
   "cell_type": "markdown",
   "id": "b249b2e6",
   "metadata": {},
   "source": [
    "### Conditional statements"
   ]
  },
  {
   "cell_type": "markdown",
   "id": "9305791d",
   "metadata": {},
   "source": [
    "####  if condition1:\n",
    "     task1\n",
    "#### elif condition2:\n",
    "     task2\n",
    "#### elif condition3:\n",
    "     task3\n",
    "#### else:\n",
    "    task4"
   ]
  },
  {
   "cell_type": "code",
   "execution_count": 7,
   "id": "a0471ff0",
   "metadata": {},
   "outputs": [
    {
     "name": "stdout",
     "output_type": "stream",
     "text": [
      "Enter a number: 5\n",
      "Odd number\n"
     ]
    }
   ],
   "source": [
    "#Code to check whetther the given number is a even or odd\n",
    "\n",
    "x=int(input(\"Enter a number: \"))\n",
    "if x%2 == 0:\n",
    "    print(\"Even number\")\n",
    "else:\n",
    "    print(\"Odd number\")"
   ]
  },
  {
   "cell_type": "code",
   "execution_count": 8,
   "id": "f04636d0",
   "metadata": {},
   "outputs": [
    {
     "data": {
      "text/plain": [
       "False"
      ]
     },
     "execution_count": 8,
     "metadata": {},
     "output_type": "execute_result"
    }
   ],
   "source": [
    "x%2==0"
   ]
  },
  {
   "cell_type": "code",
   "execution_count": 9,
   "id": "f876639e",
   "metadata": {},
   "outputs": [
    {
     "data": {
      "text/plain": [
       "False"
      ]
     },
     "execution_count": 9,
     "metadata": {},
     "output_type": "execute_result"
    }
   ],
   "source": [
    "5%2==0"
   ]
  },
  {
   "cell_type": "code",
   "execution_count": 11,
   "id": "279efe12",
   "metadata": {},
   "outputs": [
    {
     "data": {
      "text/plain": [
       "'india'"
      ]
     },
     "execution_count": 11,
     "metadata": {},
     "output_type": "execute_result"
    }
   ],
   "source": [
    "y='india'\n",
    "y"
   ]
  },
  {
   "cell_type": "code",
   "execution_count": 27,
   "id": "cf407833",
   "metadata": {},
   "outputs": [
    {
     "data": {
      "text/plain": [
       "True"
      ]
     },
     "execution_count": 27,
     "metadata": {},
     "output_type": "execute_result"
    }
   ],
   "source": [
    "y.isalpha()  # Function checks whether the input given is a alphabet or not  \n",
    "            # This method is strictly used for only Strings and not for any other data types"
   ]
  },
  {
   "cell_type": "code",
   "execution_count": 28,
   "id": "0949dcdb",
   "metadata": {},
   "outputs": [
    {
     "data": {
      "text/plain": [
       "False"
      ]
     },
     "execution_count": 28,
     "metadata": {},
     "output_type": "execute_result"
    }
   ],
   "source": [
    "y1='india123'\n",
    "y1.isalpha()"
   ]
  },
  {
   "cell_type": "code",
   "execution_count": 29,
   "id": "bafe242a",
   "metadata": {},
   "outputs": [
    {
     "data": {
      "text/plain": [
       "False"
      ]
     },
     "execution_count": 29,
     "metadata": {},
     "output_type": "execute_result"
    }
   ],
   "source": [
    "name='Ram Chandra Chettarji__98675'\n",
    "name.isalpha()"
   ]
  },
  {
   "cell_type": "code",
   "execution_count": 32,
   "id": "355b20e8",
   "metadata": {},
   "outputs": [
    {
     "name": "stdout",
     "output_type": "stream",
     "text": [
      "Enter your name in Upper case: ram\n",
      "Accept the name for re-evaluation\n"
     ]
    }
   ],
   "source": [
    "name1=str(input(\"Enter your name in Upper case: \"))\n",
    "\n",
    "# Program to check whether the input is exactly name or not\n",
    "\n",
    "if name1.isalpha()==True:\n",
    "    print('Accept the name for re-evaluation')\n",
    "else:\n",
    "    print('Name should no contain Digits or special characters')"
   ]
  },
  {
   "cell_type": "code",
   "execution_count": 33,
   "id": "bc560fd9",
   "metadata": {},
   "outputs": [
    {
     "data": {
      "text/plain": [
       "'ram'"
      ]
     },
     "execution_count": 33,
     "metadata": {},
     "output_type": "execute_result"
    }
   ],
   "source": [
    "name1"
   ]
  },
  {
   "cell_type": "code",
   "execution_count": 34,
   "id": "b23bfd5a",
   "metadata": {},
   "outputs": [
    {
     "data": {
      "text/plain": [
       "'ram'"
      ]
     },
     "execution_count": 34,
     "metadata": {},
     "output_type": "execute_result"
    }
   ],
   "source": [
    "name1.lower()  # Makes the text to lower-case"
   ]
  },
  {
   "cell_type": "code",
   "execution_count": 36,
   "id": "cbe9e590",
   "metadata": {},
   "outputs": [
    {
     "data": {
      "text/plain": [
       "'RAM'"
      ]
     },
     "execution_count": 36,
     "metadata": {},
     "output_type": "execute_result"
    }
   ],
   "source": [
    "name1.upper() # Makes the text to the Upper-case"
   ]
  },
  {
   "cell_type": "code",
   "execution_count": 37,
   "id": "b4ddb026",
   "metadata": {},
   "outputs": [
    {
     "data": {
      "text/plain": [
       "True"
      ]
     },
     "execution_count": 37,
     "metadata": {},
     "output_type": "execute_result"
    }
   ],
   "source": [
    "bool(name1.lower)  #checks whether the provided input is lower or not"
   ]
  },
  {
   "cell_type": "code",
   "execution_count": 44,
   "id": "9e9b213f",
   "metadata": {},
   "outputs": [
    {
     "data": {
      "text/plain": [
       "True"
      ]
     },
     "execution_count": 44,
     "metadata": {},
     "output_type": "execute_result"
    }
   ],
   "source": [
    "bool(5894)"
   ]
  },
  {
   "cell_type": "code",
   "execution_count": 39,
   "id": "836510c4",
   "metadata": {},
   "outputs": [
    {
     "data": {
      "text/plain": [
       "'Telangana'"
      ]
     },
     "execution_count": 39,
     "metadata": {},
     "output_type": "execute_result"
    }
   ],
   "source": [
    "x='Telangana'\n",
    "x"
   ]
  },
  {
   "cell_type": "code",
   "execution_count": 45,
   "id": "f38d2467",
   "metadata": {},
   "outputs": [],
   "source": [
    "x='Mumbai'"
   ]
  },
  {
   "cell_type": "code",
   "execution_count": 46,
   "id": "4da2f360",
   "metadata": {},
   "outputs": [],
   "source": [
    "x='maharashtra'"
   ]
  },
  {
   "cell_type": "code",
   "execution_count": 47,
   "id": "f2d22ad1",
   "metadata": {},
   "outputs": [],
   "source": [
    "x='telangana'"
   ]
  },
  {
   "cell_type": "code",
   "execution_count": 48,
   "id": "75577d83",
   "metadata": {},
   "outputs": [
    {
     "data": {
      "text/plain": [
       "'telangana'"
      ]
     },
     "execution_count": 48,
     "metadata": {},
     "output_type": "execute_result"
    }
   ],
   "source": [
    "x"
   ]
  },
  {
   "cell_type": "code",
   "execution_count": 2,
   "id": "1b7c2b11",
   "metadata": {},
   "outputs": [
    {
     "name": "stdout",
     "output_type": "stream",
     "text": [
      "Enter the Word: maharsatra\n",
      "word starts with m\n"
     ]
    }
   ],
   "source": [
    "x=str(input('Enter the Word: '))\n",
    "if x.lower().startswith('m' or 'M'):  #  startswith method to check the start \n",
    "    print(\"word starts with m\")\n",
    "else:\n",
    "    print(\"It does not start with m\")"
   ]
  },
  {
   "cell_type": "code",
   "execution_count": 8,
   "id": "cb59713d",
   "metadata": {},
   "outputs": [
    {
     "name": "stdout",
     "output_type": "stream",
     "text": [
      "Enter the Word: Moosedee\n",
      "word starts with m or M\n"
     ]
    }
   ],
   "source": [
    "x=str(input('Enter the Word: '))\n",
    "if x[0]=='m' or x[0]=='M':    #simple condition to check whether the word starts with m or M\n",
    "    print(\"word starts with m or M\")\n",
    "else:\n",
    "    print(\"It does not start with m\")"
   ]
  },
  {
   "cell_type": "code",
   "execution_count": 23,
   "id": "254ef009",
   "metadata": {},
   "outputs": [
    {
     "name": "stdout",
     "output_type": "stream",
     "text": [
      "Enter the Word: kotstas\n",
      "It does not start with m,h,s\n"
     ]
    }
   ],
   "source": [
    "x=str(input(\"Enter the Word: \"))\n",
    "\n",
    "if x[0].lower() == 'm' or x[0].lower() == 's' or x[0].lower() == 'h':\n",
    "    print(\"Yes\")\n",
    "else:\n",
    "    print(\"It does not start with m,h,s\")\n"
   ]
  },
  {
   "cell_type": "code",
   "execution_count": 24,
   "id": "d97fd971",
   "metadata": {},
   "outputs": [
    {
     "name": "stdout",
     "output_type": "stream",
     "text": [
      "No\n"
     ]
    }
   ],
   "source": [
    "if x[0].lower()in ('m','h','s'):\n",
    "    print(\"Yes\")\n",
    "else:\n",
    "    print(\"No\")"
   ]
  },
  {
   "cell_type": "code",
   "execution_count": 13,
   "id": "83d943fd",
   "metadata": {},
   "outputs": [
    {
     "name": "stdout",
     "output_type": "stream",
     "text": [
      "Enter the word: list\n",
      "The starting letter is: l\n"
     ]
    }
   ],
   "source": [
    "word=str(input(\"Enter the word: \"))\n",
    "if word !=0:\n",
    "    print(\"The starting letter is:\",word[0])"
   ]
  },
  {
   "cell_type": "markdown",
   "id": "4b0186a8",
   "metadata": {},
   "source": [
    "# DAY-07 "
   ]
  },
  {
   "cell_type": "markdown",
   "id": "8882a1a4",
   "metadata": {},
   "source": [
    "# LOOPING STATEMENTS"
   ]
  },
  {
   "cell_type": "markdown",
   "id": "02835694",
   "metadata": {},
   "source": [
    "### I)FOR LOOP\n",
    "### II)WHILE LOOP"
   ]
  },
  {
   "cell_type": "code",
   "execution_count": 74,
   "id": "bec2894f",
   "metadata": {},
   "outputs": [
    {
     "name": "stdout",
     "output_type": "stream",
     "text": [
      "Yes 5\n",
      "Yes 5.5\n",
      "Yes 6.0\n",
      "Yes 6.5\n",
      "Yes 7.0\n",
      "Yes 7.5\n",
      "Yes 8.0\n",
      "Yes 8.5\n",
      "Yes 9.0\n",
      "Yes 9.5\n"
     ]
    }
   ],
   "source": [
    "# FOR LOOP\n",
    "x=5\n",
    "while x<10:\n",
    "    print('Yes',x)\n",
    "    x=x+0.5"
   ]
  },
  {
   "cell_type": "code",
   "execution_count": 75,
   "id": "6fccd4c4",
   "metadata": {},
   "outputs": [
    {
     "name": "stdout",
     "output_type": "stream",
     "text": [
      "Yes 5\n",
      "Yes 7\n",
      "Yes 9\n"
     ]
    }
   ],
   "source": [
    "x=5\n",
    "while x<10:\n",
    "    print('Yes',x)\n",
    "    x=x+2"
   ]
  },
  {
   "cell_type": "code",
   "execution_count": 76,
   "id": "ff7c0b93",
   "metadata": {},
   "outputs": [
    {
     "name": "stdout",
     "output_type": "stream",
     "text": [
      "Yes 5\n",
      "Yes 5.5\n",
      "Yes 6.0\n",
      "Yes 6.5\n",
      "Yes 7.0\n",
      "Yes 7.5\n",
      "Yes 8.0\n",
      "Yes 8.5\n",
      "Yes 9.0\n",
      "Yes 9.5\n"
     ]
    }
   ],
   "source": [
    "x=5\n",
    "while x<10:\n",
    "    print('Yes',x)\n",
    "    x=x+0.5"
   ]
  },
  {
   "cell_type": "code",
   "execution_count": 77,
   "id": "1afaccff",
   "metadata": {},
   "outputs": [],
   "source": [
    "x=25\n",
    "while x<10:\n",
    "    print('Yes',x)\n",
    "    x=x-5"
   ]
  },
  {
   "cell_type": "code",
   "execution_count": 78,
   "id": "b926b60e",
   "metadata": {},
   "outputs": [
    {
     "name": "stdout",
     "output_type": "stream",
     "text": [
      "Yes 70\n",
      "Yes 65\n",
      "Yes 60\n",
      "Yes 55\n",
      "Yes 50\n"
     ]
    }
   ],
   "source": [
    "x=70\n",
    "while x > 45:\n",
    "    print('Yes',x)\n",
    "    x=x-5"
   ]
  },
  {
   "cell_type": "code",
   "execution_count": 79,
   "id": "144a672f",
   "metadata": {},
   "outputs": [
    {
     "data": {
      "text/plain": [
       "[40, 25, 56, 78, 82, 66, 83]"
      ]
     },
     "execution_count": 79,
     "metadata": {},
     "output_type": "execute_result"
    }
   ],
   "source": [
    "y=[40,25,56,78,82,66,83]\n",
    "y"
   ]
  },
  {
   "cell_type": "code",
   "execution_count": 80,
   "id": "ab229aff",
   "metadata": {},
   "outputs": [
    {
     "ename": "TypeError",
     "evalue": "can only concatenate list (not \"int\") to list",
     "output_type": "error",
     "traceback": [
      "\u001b[1;31m---------------------------------------------------------------------------\u001b[0m",
      "\u001b[1;31mTypeError\u001b[0m                                 Traceback (most recent call last)",
      "Cell \u001b[1;32mIn[80], line 1\u001b[0m\n\u001b[1;32m----> 1\u001b[0m y\u001b[38;5;241m+\u001b[39m\u001b[38;5;241m5\u001b[39m\n",
      "\u001b[1;31mTypeError\u001b[0m: can only concatenate list (not \"int\") to list"
     ]
    }
   ],
   "source": [
    "y+5  #this is broadcasting property this is not applicable here"
   ]
  },
  {
   "cell_type": "code",
   "execution_count": 81,
   "id": "3166dda2",
   "metadata": {},
   "outputs": [
    {
     "data": {
      "text/plain": [
       "[40, 25, 56, 78, 82, 66, 83, 40, 25, 56, 78, 82, 66, 83]"
      ]
     },
     "execution_count": 81,
     "metadata": {},
     "output_type": "execute_result"
    }
   ],
   "source": [
    "y*2"
   ]
  },
  {
   "cell_type": "code",
   "execution_count": 82,
   "id": "5a652268",
   "metadata": {},
   "outputs": [
    {
     "data": {
      "text/plain": [
       "[40, 25, 56, 78, 82, 66, 83]"
      ]
     },
     "execution_count": 82,
     "metadata": {},
     "output_type": "execute_result"
    }
   ],
   "source": [
    "y"
   ]
  },
  {
   "cell_type": "code",
   "execution_count": 83,
   "id": "eceff20f",
   "metadata": {},
   "outputs": [
    {
     "data": {
      "text/plain": [
       "[40, 25, 56, 78, 82, 66, 83]"
      ]
     },
     "execution_count": 83,
     "metadata": {},
     "output_type": "execute_result"
    }
   ],
   "source": [
    "radius=[40,25,56,78,82,66,83]\n",
    "radius"
   ]
  },
  {
   "cell_type": "code",
   "execution_count": 84,
   "id": "898ba4b6",
   "metadata": {},
   "outputs": [
    {
     "name": "stdout",
     "output_type": "stream",
     "text": [
      "5024.0\n",
      "1962.5\n",
      "9847.04\n",
      "19103.760000000002\n",
      "21113.36\n",
      "13677.84\n",
      "21631.46\n"
     ]
    }
   ],
   "source": [
    "for i in radius:   #finding radius for each element in the list\n",
    "   values= print(3.14*i*i)"
   ]
  },
  {
   "cell_type": "code",
   "execution_count": 85,
   "id": "448c4e7f",
   "metadata": {},
   "outputs": [],
   "source": [
    "area=[]\n",
    "for i in radius: #appending the found area into the list named area\n",
    "    area.append(3.14*i*i)"
   ]
  },
  {
   "cell_type": "code",
   "execution_count": 86,
   "id": "24938dfe",
   "metadata": {},
   "outputs": [
    {
     "data": {
      "text/plain": [
       "[5024.0, 1962.5, 9847.04, 19103.760000000002, 21113.36, 13677.84, 21631.46]"
      ]
     },
     "execution_count": 86,
     "metadata": {},
     "output_type": "execute_result"
    }
   ],
   "source": [
    "area"
   ]
  },
  {
   "cell_type": "code",
   "execution_count": 87,
   "id": "45813460",
   "metadata": {},
   "outputs": [
    {
     "data": {
      "text/plain": [
       "list"
      ]
     },
     "execution_count": 87,
     "metadata": {},
     "output_type": "execute_result"
    }
   ],
   "source": [
    "type(area)"
   ]
  },
  {
   "cell_type": "code",
   "execution_count": 88,
   "id": "5969502b",
   "metadata": {},
   "outputs": [
    {
     "data": {
      "text/plain": [
       "[52, 56, 18, 45, 87, 4, 79, 456, 47, 85, 12, 4, 55, 51151, 498]"
      ]
     },
     "execution_count": 88,
     "metadata": {},
     "output_type": "execute_result"
    }
   ],
   "source": [
    "num=[52,56,18,45,87,4,79,456,47,85,12,4,55,51151,498]\n",
    "num"
   ]
  },
  {
   "cell_type": "code",
   "execution_count": 89,
   "id": "7eb99511",
   "metadata": {},
   "outputs": [
    {
     "name": "stdout",
     "output_type": "stream",
     "text": [
      "Even\n",
      "Even\n",
      "Even\n",
      "Odd\n",
      "Odd\n",
      "Even\n",
      "Odd\n",
      "Even\n",
      "Odd\n",
      "Odd\n",
      "Even\n",
      "Even\n",
      "Odd\n",
      "Odd\n",
      "Even\n"
     ]
    }
   ],
   "source": [
    "for i in num:\n",
    "    if(i%2==0):\n",
    "        print(\"Even\")\n",
    "    else:\n",
    "        print(\"Odd\")"
   ]
  },
  {
   "cell_type": "code",
   "execution_count": 90,
   "id": "cd7bee95",
   "metadata": {},
   "outputs": [],
   "source": [
    "#condition for checking and sagregatting even and odd elements\n",
    "even=[]\n",
    "odd=[]\n",
    "for i in num:\n",
    "    if i%2==0:\n",
    "        even.append(i)\n",
    "    else:\n",
    "        odd.append(i)"
   ]
  },
  {
   "cell_type": "code",
   "execution_count": 91,
   "id": "4163104b",
   "metadata": {},
   "outputs": [
    {
     "name": "stdout",
     "output_type": "stream",
     "text": [
      "Even [52, 56, 18, 4, 456, 12, 4, 498]\n"
     ]
    }
   ],
   "source": [
    "print(\"Even\",even)"
   ]
  },
  {
   "cell_type": "code",
   "execution_count": 92,
   "id": "c7260536",
   "metadata": {},
   "outputs": [
    {
     "name": "stdout",
     "output_type": "stream",
     "text": [
      "Odd [45, 87, 79, 47, 85, 55, 51151]\n"
     ]
    }
   ],
   "source": [
    "print(\"Odd\",odd)"
   ]
  },
  {
   "cell_type": "code",
   "execution_count": 93,
   "id": "f2efb38f",
   "metadata": {},
   "outputs": [],
   "source": [
    "#condition for checking and sagregatting even and odd elements\n",
    "#If even return i square and odd return i cube\n",
    "even=[]\n",
    "odd=[]\n",
    "for i in num:\n",
    "    if i%2==0:\n",
    "        even.append(i*i)\n",
    "    else:\n",
    "        odd.append(i*i*i)"
   ]
  },
  {
   "cell_type": "code",
   "execution_count": 94,
   "id": "7bf6ca25",
   "metadata": {},
   "outputs": [
    {
     "data": {
      "text/plain": [
       "[91125, 658503, 493039, 103823, 614125, 166375, 133832744995951]"
      ]
     },
     "execution_count": 94,
     "metadata": {},
     "output_type": "execute_result"
    }
   ],
   "source": [
    "odd"
   ]
  },
  {
   "cell_type": "code",
   "execution_count": 95,
   "id": "c1476a7d",
   "metadata": {},
   "outputs": [
    {
     "data": {
      "text/plain": [
       "[2704, 3136, 324, 16, 207936, 144, 16, 248004]"
      ]
     },
     "execution_count": 95,
     "metadata": {},
     "output_type": "execute_result"
    }
   ],
   "source": [
    "even"
   ]
  },
  {
   "cell_type": "code",
   "execution_count": 96,
   "id": "e1df5c83",
   "metadata": {},
   "outputs": [],
   "source": [
    "num1=[39,56,98,99,79,59,65]"
   ]
  },
  {
   "cell_type": "code",
   "execution_count": 97,
   "id": "61406cca",
   "metadata": {},
   "outputs": [],
   "source": [
    "a=39"
   ]
  },
  {
   "cell_type": "code",
   "execution_count": 98,
   "id": "26da0589",
   "metadata": {},
   "outputs": [
    {
     "data": {
      "text/plain": [
       "'39'"
      ]
     },
     "execution_count": 98,
     "metadata": {},
     "output_type": "execute_result"
    }
   ],
   "source": [
    "str(a)"
   ]
  },
  {
   "cell_type": "code",
   "execution_count": 99,
   "id": "e9357b0d",
   "metadata": {},
   "outputs": [],
   "source": [
    "d=str(a)"
   ]
  },
  {
   "cell_type": "code",
   "execution_count": 100,
   "id": "9505a746",
   "metadata": {},
   "outputs": [
    {
     "data": {
      "text/plain": [
       "'31'"
      ]
     },
     "execution_count": 100,
     "metadata": {},
     "output_type": "execute_result"
    }
   ],
   "source": [
    "d.replace('9','1')"
   ]
  },
  {
   "cell_type": "code",
   "execution_count": 101,
   "id": "c6e30852",
   "metadata": {},
   "outputs": [],
   "source": [
    "h=[]\n",
    "for i in num1:\n",
    "    a=str(i)\n",
    "    b=a.replace('9','1')  #changes the 9 at last to 1 \n",
    "    c=int(b)\n",
    "    h.append(c)"
   ]
  },
  {
   "cell_type": "code",
   "execution_count": 102,
   "id": "0bb64df8",
   "metadata": {},
   "outputs": [
    {
     "data": {
      "text/plain": [
       "[31, 56, 18, 11, 71, 51, 65]"
      ]
     },
     "execution_count": 102,
     "metadata": {},
     "output_type": "execute_result"
    }
   ],
   "source": [
    "h"
   ]
  },
  {
   "cell_type": "code",
   "execution_count": 103,
   "id": "c5216bcc",
   "metadata": {},
   "outputs": [],
   "source": [
    "a='Software'\n",
    "b=''\n",
    "for i in a:\n",
    "    if i.lower() not in ('s','o'):\n",
    "        b+=i"
   ]
  },
  {
   "cell_type": "code",
   "execution_count": 105,
   "id": "73a0382e",
   "metadata": {},
   "outputs": [
    {
     "data": {
      "text/plain": [
       "'ftware'"
      ]
     },
     "execution_count": 105,
     "metadata": {},
     "output_type": "execute_result"
    }
   ],
   "source": [
    "b"
   ]
  },
  {
   "cell_type": "markdown",
   "id": "74654585",
   "metadata": {},
   "source": [
    "#  DAY-08 __ Dt: 11-01-2025"
   ]
  },
  {
   "cell_type": "code",
   "execution_count": 3,
   "id": "c66cb3af",
   "metadata": {},
   "outputs": [],
   "source": [
    "# Syntax for creating a function\n",
    "\n",
    "def functionname(parameter):\n",
    "    # block of code\n",
    "    return output"
   ]
  },
  {
   "cell_type": "code",
   "execution_count": 8,
   "id": "1faf256e",
   "metadata": {},
   "outputs": [
    {
     "data": {
      "text/plain": [
       "19152.432"
      ]
     },
     "execution_count": 8,
     "metadata": {},
     "output_type": "execute_result"
    }
   ],
   "source": [
    "def calArea(r):\n",
    "    a=3.148*r*r\n",
    "    return a\n",
    "\n",
    "# Calling the function\n",
    "calArea(78)"
   ]
  },
  {
   "cell_type": "code",
   "execution_count": 11,
   "id": "fdfa9da0",
   "metadata": {},
   "outputs": [
    {
     "data": {
      "text/plain": [
       "13712.688"
      ]
     },
     "execution_count": 11,
     "metadata": {},
     "output_type": "execute_result"
    }
   ],
   "source": [
    "w=calArea(66)\n",
    "w"
   ]
  },
  {
   "cell_type": "code",
   "execution_count": 12,
   "id": "c207d411",
   "metadata": {},
   "outputs": [
    {
     "data": {
      "text/plain": [
       "float"
      ]
     },
     "execution_count": 12,
     "metadata": {},
     "output_type": "execute_result"
    }
   ],
   "source": [
    "type(w)"
   ]
  },
  {
   "cell_type": "code",
   "execution_count": 20,
   "id": "fdc1b7f7",
   "metadata": {},
   "outputs": [
    {
     "name": "stdout",
     "output_type": "stream",
     "text": [
      "7395\n"
     ]
    }
   ],
   "source": [
    "def d_to_inr(x):  #function to transfer the dollar to indian currency\n",
    "    print(x*85)\n",
    "d_to_inr(87)"
   ]
  },
  {
   "cell_type": "code",
   "execution_count": 21,
   "id": "714b9bee",
   "metadata": {},
   "outputs": [
    {
     "data": {
      "text/plain": [
       "7395"
      ]
     },
     "execution_count": 21,
     "metadata": {},
     "output_type": "execute_result"
    }
   ],
   "source": [
    "def d_to_inr(x):  #function to transfer the dollar to indian currency\n",
    "    return x*85\n",
    "d_to_inr(87)"
   ]
  },
  {
   "cell_type": "code",
   "execution_count": 24,
   "id": "151f735e",
   "metadata": {},
   "outputs": [
    {
     "data": {
      "text/plain": [
       "int"
      ]
     },
     "execution_count": 24,
     "metadata": {},
     "output_type": "execute_result"
    }
   ],
   "source": [
    "a=d_to_inr(98)\n",
    "type(a)"
   ]
  },
  {
   "cell_type": "code",
   "execution_count": 27,
   "id": "b0dad567",
   "metadata": {},
   "outputs": [
    {
     "data": {
      "text/plain": [
       "5478"
      ]
     },
     "execution_count": 27,
     "metadata": {},
     "output_type": "execute_result"
    }
   ],
   "source": [
    "def aor(l,w):\n",
    "    area=l*w\n",
    "    return area\n",
    "aor(83,66)"
   ]
  },
  {
   "cell_type": "code",
   "execution_count": 30,
   "id": "54214203",
   "metadata": {},
   "outputs": [
    {
     "data": {
      "text/plain": [
       "'IndiaIndiaIndiaIndiaIndiaIndiaIndiaIndiaIndiaIndiaIndiaIndiaIndiaIndiaIndiaIndiaIndiaIndiaIndiaIndiaIndiaIndiaIndiaIndiaIndiaIndiaIndiaIndiaIndiaIndiaIndiaIndiaIndiaIndiaIndiaIndiaIndiaIndiaIndiaIndiaIndiaIndiaIndiaIndiaIndiaIndiaIndiaIndiaIndiaIndiaIndiaIndiaIndiaIndiaIndiaIndiaIndiaIndiaIndiaIndiaIndiaIndiaIndiaIndiaIndiaIndiaIndiaIndiaIndiaIndiaIndiaIndiaIndiaIndiaIndiaIndiaIndiaIndiaIndiaIndiaIndiaIndiaIndiaIndiaIndiaIndiaIndiaIndiaIndiaIndiaIndiaIndiaIndiaIndiaIndiaIndiaIndiaIndia'"
      ]
     },
     "execution_count": 30,
     "metadata": {},
     "output_type": "execute_result"
    }
   ],
   "source": [
    "aor(98,'India')"
   ]
  },
  {
   "cell_type": "code",
   "execution_count": 59,
   "id": "a19006ba",
   "metadata": {},
   "outputs": [],
   "source": [
    "def area(radius,length,width):\n",
    "    aoc=3.14*radius*radius #area of circle\n",
    "    aor=length*width #area of rectangle\n",
    "    return [aoc,aor] #If you store in [] it displays as list if not indicated anything it stores as tuple\n",
    "#If you save it in the form of {} it will save in set"
   ]
  },
  {
   "cell_type": "code",
   "execution_count": 60,
   "id": "7ce23205",
   "metadata": {},
   "outputs": [
    {
     "data": {
      "text/plain": [
       "[6358.500000000001, 4984]"
      ]
     },
     "execution_count": 60,
     "metadata": {},
     "output_type": "execute_result"
    }
   ],
   "source": [
    "area(45,56,89)"
   ]
  },
  {
   "cell_type": "code",
   "execution_count": 61,
   "id": "afc19e20",
   "metadata": {},
   "outputs": [
    {
     "data": {
      "text/plain": [
       "function"
      ]
     },
     "execution_count": 61,
     "metadata": {},
     "output_type": "execute_result"
    }
   ],
   "source": [
    "type(area)\n",
    "#Function returns the output as tuple"
   ]
  },
  {
   "cell_type": "code",
   "execution_count": 62,
   "id": "1a095915",
   "metadata": {},
   "outputs": [
    {
     "data": {
      "text/plain": [
       "[25434.000000000004, 3618]"
      ]
     },
     "execution_count": 62,
     "metadata": {},
     "output_type": "execute_result"
    }
   ],
   "source": [
    "d=area(90,67,54)\n",
    "d"
   ]
  },
  {
   "cell_type": "code",
   "execution_count": 63,
   "id": "ab4595e7",
   "metadata": {},
   "outputs": [
    {
     "data": {
      "text/plain": [
       "list"
      ]
     },
     "execution_count": 63,
     "metadata": {},
     "output_type": "execute_result"
    }
   ],
   "source": [
    "type(d)"
   ]
  },
  {
   "cell_type": "code",
   "execution_count": 64,
   "id": "f7cbf097",
   "metadata": {},
   "outputs": [
    {
     "data": {
      "text/plain": [
       "25434.000000000004"
      ]
     },
     "execution_count": 64,
     "metadata": {},
     "output_type": "execute_result"
    }
   ],
   "source": [
    "d[0]"
   ]
  },
  {
   "cell_type": "code",
   "execution_count": 65,
   "id": "0c7adb17",
   "metadata": {},
   "outputs": [
    {
     "name": "stdout",
     "output_type": "stream",
     "text": [
      "314.0 100\n"
     ]
    }
   ],
   "source": [
    "aor,aoc=area(10,20,5)\n",
    "print(aor,aoc)"
   ]
  },
  {
   "cell_type": "code",
   "execution_count": 77,
   "id": "59bf1c75",
   "metadata": {},
   "outputs": [],
   "source": [
    "def area(radius,length,width):\n",
    "    aoc=3.14*radius*radius #area of circle\n",
    "    aor=length*width #area of rectangle\n",
    "    return {'Area Of Rect':aoc,'Area of Circle':aor}"
   ]
  },
  {
   "cell_type": "code",
   "execution_count": 78,
   "id": "91d17918",
   "metadata": {},
   "outputs": [],
   "source": [
    "d=area(87,65,24)"
   ]
  },
  {
   "cell_type": "code",
   "execution_count": 79,
   "id": "fa7fbe59",
   "metadata": {},
   "outputs": [
    {
     "data": {
      "text/plain": [
       "dict"
      ]
     },
     "execution_count": 79,
     "metadata": {},
     "output_type": "execute_result"
    }
   ],
   "source": [
    "type(d)"
   ]
  },
  {
   "cell_type": "code",
   "execution_count": 80,
   "id": "651f6226",
   "metadata": {},
   "outputs": [
    {
     "data": {
      "text/plain": [
       "{'Area Of Rect': 23766.66, 'Area of Circle': 1560}"
      ]
     },
     "execution_count": 80,
     "metadata": {},
     "output_type": "execute_result"
    }
   ],
   "source": [
    "d"
   ]
  },
  {
   "cell_type": "code",
   "execution_count": 5,
   "id": "f2f97e13",
   "metadata": {},
   "outputs": [
    {
     "data": {
      "text/plain": [
       "'Hyderabad 500008 Telangana'"
      ]
     },
     "execution_count": 5,
     "metadata": {},
     "output_type": "execute_result"
    }
   ],
   "source": [
    "t='Hyderabad 500008 Telangana'\n",
    "t"
   ]
  },
  {
   "cell_type": "code",
   "execution_count": 15,
   "id": "c97a65d3",
   "metadata": {},
   "outputs": [
    {
     "data": {
      "text/plain": [
       "{'Number of alphabetics': 18, 'Number of digits': 8}"
      ]
     },
     "execution_count": 15,
     "metadata": {},
     "output_type": "execute_result"
    }
   ],
   "source": [
    " #This is the function defined to find out the number of words and alphabets in x or provided t\n",
    "def count_num_alpha(x): \n",
    "    c=0\n",
    "    d=0\n",
    "    for i in x:\n",
    "        if i.isalpha():\n",
    "            c+=1\n",
    "        elif i.isnumeric():\n",
    "            d+=1\n",
    "    return {'Number of alphabetics':c,'Number of digits':d}\n",
    "x='Telangana 65682737 Hyderabad'\n",
    "count_num_alpha(x)\n"
   ]
  },
  {
   "cell_type": "code",
   "execution_count": 8,
   "id": "4b23083d",
   "metadata": {},
   "outputs": [
    {
     "data": {
      "text/plain": [
       "{'Number of alphabetics': 18, 'Number of digits': 6}"
      ]
     },
     "execution_count": 8,
     "metadata": {},
     "output_type": "execute_result"
    }
   ],
   "source": [
    "count_num_alpha(t)"
   ]
  },
  {
   "cell_type": "code",
   "execution_count": 13,
   "id": "307eb0af",
   "metadata": {},
   "outputs": [
    {
     "name": "stdout",
     "output_type": "stream",
     "text": [
      "{'Number of alphabetics': 18, 'Number of digits': 8, 'String without digits': 'TelanganaHyderabad'}\n"
     ]
    }
   ],
   "source": [
    "def remove_num(x): \n",
    "    c = 0\n",
    "    d = 0\n",
    "    new_string = \"\"\n",
    "\n",
    "    for i in x:\n",
    "        if i.isalpha():\n",
    "            c += 1\n",
    "            new_string += i\n",
    "        elif i.isnumeric():\n",
    "            d += 1\n",
    "\n",
    "    return {\n",
    "        'Number of alphabetics': c,\n",
    "        'Number of digits': d,\n",
    "        'String without digits': new_string\n",
    "    }\n",
    "\n",
    "x = 'Telangana 65682737 Hyderabad'\n",
    "result = remove_num(x)\n",
    "\n",
    "print(result)\n"
   ]
  },
  {
   "cell_type": "code",
   "execution_count": 20,
   "id": "b85b0424",
   "metadata": {},
   "outputs": [
    {
     "data": {
      "text/plain": [
       "{'Number of alphabetics': 18,\n",
       " 'Number of digits': 8,\n",
       " 'Numbers are removed then': 'TelanganaHyderabad'}"
      ]
     },
     "execution_count": 20,
     "metadata": {},
     "output_type": "execute_result"
    }
   ],
   "source": [
    "def remove_num(x): \n",
    "    c=0\n",
    "    d=0\n",
    "    e=\"\"\n",
    "    for i in x:\n",
    "        if i.isalpha():\n",
    "            c+=1\n",
    "            e+=i\n",
    "        elif i.isnumeric():\n",
    "            d+=1\n",
    "    return {'Number of alphabetics':c,'Number of digits':d,'Numbers are removed then':e}\n",
    "x='Telangana 65682737 Hyderabad'\n",
    "remove_num(x)\n"
   ]
  },
  {
   "cell_type": "code",
   "execution_count": null,
   "id": "fc535c18",
   "metadata": {},
   "outputs": [],
   "source": []
  }
 ],
 "metadata": {
  "kernelspec": {
   "display_name": "Python 3 (ipykernel)",
   "language": "python",
   "name": "python3"
  },
  "language_info": {
   "codemirror_mode": {
    "name": "ipython",
    "version": 3
   },
   "file_extension": ".py",
   "mimetype": "text/x-python",
   "name": "python",
   "nbconvert_exporter": "python",
   "pygments_lexer": "ipython3",
   "version": "3.11.4"
  }
 },
 "nbformat": 4,
 "nbformat_minor": 5
}
